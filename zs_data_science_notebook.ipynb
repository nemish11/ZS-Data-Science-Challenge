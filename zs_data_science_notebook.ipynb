{
 "cells": [
  {
   "cell_type": "code",
   "execution_count": 50,
   "metadata": {},
   "outputs": [],
   "source": [
    "import math\n",
    "import numpy as np\n",
    "import pandas as pd\n",
    "import scipy\n",
    "import seaborn as sns\n",
    "from sklearn.linear_model import LogisticRegression # to apply the Logistic regression\n",
    "from sklearn.linear_model import LinearRegression\n",
    "from sklearn.linear_model import Lasso\n",
    "from sklearn.linear_model import Ridge\n",
    "from sklearn.model_selection import train_test_split # to split the data into two parts\n",
    "from sklearn.cross_validation import KFold # use for cross validation\n",
    "from sklearn.model_selection import GridSearchCV# for tuning parameter\n",
    "from sklearn.ensemble import RandomForestClassifier\n",
    "from sklearn.ensemble import AdaBoostRegressor# for random forest classifier\n",
    "from sklearn.naive_bayes import GaussianNB\n",
    "from sklearn.ensemble import RandomForestRegressor\n",
    "from scipy.stats import norm\n",
    "from sklearn.preprocessing import StandardScaler\n",
    "from scipy import stats\n",
    "import warnings\n",
    "from sklearn.neighbors import KNeighborsClassifier\n",
    "from sklearn.tree import DecisionTreeClassifier\n",
    "from sklearn.tree import DecisionTreeRegressor\n",
    "from sklearn import svm # for Support Vector Machine\n",
    "from sklearn import metrics # for the check the error and accuracy of the model\n",
    "from sklearn.decomposition import PCA\n",
    "import os\n",
    "from scipy import ndimage\n",
    "import tensorflow as tf\n",
    "import matplotlib.pyplot as plt\n",
    "np.random.seed(1)\n",
    "\n",
    "\n",
    "# Any results you write to the current directory are saved as output."
   ]
  },
  {
   "cell_type": "code",
   "execution_count": 3,
   "metadata": {},
   "outputs": [],
   "source": [
    "train_data = pd.read_csv(\"yds_train2018.csv\")"
   ]
  },
  {
   "cell_type": "code",
   "execution_count": 4,
   "metadata": {},
   "outputs": [
    {
     "data": {
      "text/plain": [
       "(79072, 8)"
      ]
     },
     "execution_count": 4,
     "metadata": {},
     "output_type": "execute_result"
    }
   ],
   "source": [
    "train_data.shape"
   ]
  },
  {
   "cell_type": "code",
   "execution_count": 5,
   "metadata": {},
   "outputs": [
    {
     "data": {
      "text/html": [
       "<div>\n",
       "<style scoped>\n",
       "    .dataframe tbody tr th:only-of-type {\n",
       "        vertical-align: middle;\n",
       "    }\n",
       "\n",
       "    .dataframe tbody tr th {\n",
       "        vertical-align: top;\n",
       "    }\n",
       "\n",
       "    .dataframe thead th {\n",
       "        text-align: right;\n",
       "    }\n",
       "</style>\n",
       "<table border=\"1\" class=\"dataframe\">\n",
       "  <thead>\n",
       "    <tr style=\"text-align: right;\">\n",
       "      <th></th>\n",
       "      <th>S_No</th>\n",
       "      <th>Year</th>\n",
       "      <th>Month</th>\n",
       "      <th>Week</th>\n",
       "      <th>Merchant_ID</th>\n",
       "      <th>Product_ID</th>\n",
       "      <th>Country</th>\n",
       "      <th>Sales</th>\n",
       "    </tr>\n",
       "  </thead>\n",
       "  <tbody>\n",
       "    <tr>\n",
       "      <th>0</th>\n",
       "      <td>1</td>\n",
       "      <td>2013</td>\n",
       "      <td>1</td>\n",
       "      <td>1</td>\n",
       "      <td>ar00001</td>\n",
       "      <td>1</td>\n",
       "      <td>Argentina</td>\n",
       "      <td>157500.0</td>\n",
       "    </tr>\n",
       "    <tr>\n",
       "      <th>1</th>\n",
       "      <td>2</td>\n",
       "      <td>2013</td>\n",
       "      <td>1</td>\n",
       "      <td>1</td>\n",
       "      <td>ar00003</td>\n",
       "      <td>1</td>\n",
       "      <td>Argentina</td>\n",
       "      <td>39375.0</td>\n",
       "    </tr>\n",
       "    <tr>\n",
       "      <th>2</th>\n",
       "      <td>3</td>\n",
       "      <td>2013</td>\n",
       "      <td>1</td>\n",
       "      <td>1</td>\n",
       "      <td>ar00004</td>\n",
       "      <td>1</td>\n",
       "      <td>Argentina</td>\n",
       "      <td>15750.0</td>\n",
       "    </tr>\n",
       "    <tr>\n",
       "      <th>3</th>\n",
       "      <td>4</td>\n",
       "      <td>2013</td>\n",
       "      <td>1</td>\n",
       "      <td>1</td>\n",
       "      <td>ar00007</td>\n",
       "      <td>1</td>\n",
       "      <td>Argentina</td>\n",
       "      <td>47250.0</td>\n",
       "    </tr>\n",
       "    <tr>\n",
       "      <th>4</th>\n",
       "      <td>5</td>\n",
       "      <td>2013</td>\n",
       "      <td>1</td>\n",
       "      <td>1</td>\n",
       "      <td>ar00008</td>\n",
       "      <td>1</td>\n",
       "      <td>Argentina</td>\n",
       "      <td>283500.0</td>\n",
       "    </tr>\n",
       "  </tbody>\n",
       "</table>\n",
       "</div>"
      ],
      "text/plain": [
       "   S_No  Year  Month  Week Merchant_ID  Product_ID    Country     Sales\n",
       "0     1  2013      1     1     ar00001           1  Argentina  157500.0\n",
       "1     2  2013      1     1     ar00003           1  Argentina   39375.0\n",
       "2     3  2013      1     1     ar00004           1  Argentina   15750.0\n",
       "3     4  2013      1     1     ar00007           1  Argentina   47250.0\n",
       "4     5  2013      1     1     ar00008           1  Argentina  283500.0"
      ]
     },
     "execution_count": 5,
     "metadata": {},
     "output_type": "execute_result"
    }
   ],
   "source": [
    "train_data.head(5)"
   ]
  },
  {
   "cell_type": "code",
   "execution_count": 6,
   "metadata": {},
   "outputs": [],
   "source": [
    "test_data = pd.read_csv(\"yds_test2018.csv\")"
   ]
  },
  {
   "cell_type": "code",
   "execution_count": 7,
   "metadata": {},
   "outputs": [
    {
     "data": {
      "text/plain": [
       "(105, 6)"
      ]
     },
     "execution_count": 7,
     "metadata": {},
     "output_type": "execute_result"
    }
   ],
   "source": [
    "test_data.shape"
   ]
  },
  {
   "cell_type": "code",
   "execution_count": 8,
   "metadata": {},
   "outputs": [
    {
     "data": {
      "text/plain": [
       "<bound method NDFrame.describe of       S_No  Year  Month  Product_ID    Country  Sales\n",
       "0    79073  2016      4           1  Argentina    NaN\n",
       "1    79074  2016      5           1  Argentina    NaN\n",
       "2    79075  2016      6           1  Argentina    NaN\n",
       "3    79076  2016      7           1  Argentina    NaN\n",
       "4    79077  2016      8           1  Argentina    NaN\n",
       "5    79078  2016      9           1  Argentina    NaN\n",
       "6    79079  2016     10           1  Argentina    NaN\n",
       "7    79080  2016     11           1  Argentina    NaN\n",
       "8    79081  2016     12           1  Argentina    NaN\n",
       "9    79082  2017      1           1  Argentina    NaN\n",
       "10   79083  2017      2           1  Argentina    NaN\n",
       "11   79084  2017      3           1  Argentina    NaN\n",
       "12   79085  2016      4           2  Argentina    NaN\n",
       "13   79086  2016      5           2  Argentina    NaN\n",
       "14   79087  2016      6           2  Argentina    NaN\n",
       "15   79088  2016      7           2  Argentina    NaN\n",
       "16   79089  2016      8           2  Argentina    NaN\n",
       "17   79090  2016      9           2  Argentina    NaN\n",
       "18   79091  2016     10           2  Argentina    NaN\n",
       "19   79092  2016     11           2  Argentina    NaN\n",
       "20   79093  2016     12           2  Argentina    NaN\n",
       "21   79094  2017      1           2  Argentina    NaN\n",
       "22   79095  2017      2           2  Argentina    NaN\n",
       "23   79096  2017      3           2  Argentina    NaN\n",
       "24   79097  2017      1           3  Argentina    NaN\n",
       "25   79098  2017      2           3  Argentina    NaN\n",
       "26   79099  2017      3           3  Argentina    NaN\n",
       "27   79100  2016      4           2    Belgium    NaN\n",
       "28   79101  2016      5           2    Belgium    NaN\n",
       "29   79102  2016      6           2    Belgium    NaN\n",
       "..     ...   ...    ...         ...        ...    ...\n",
       "75   79148  2017      1           2    Denmark    NaN\n",
       "76   79149  2017      2           2    Denmark    NaN\n",
       "77   79150  2017      3           2    Denmark    NaN\n",
       "78   79151  2015     11           5    England    NaN\n",
       "79   79152  2015     12           5    England    NaN\n",
       "80   79153  2016      1           5    England    NaN\n",
       "81   79154  2016      2           5    England    NaN\n",
       "82   79155  2016      3           5    England    NaN\n",
       "83   79156  2016      4           5    England    NaN\n",
       "84   79157  2016      5           5    England    NaN\n",
       "85   79158  2016      6           5    England    NaN\n",
       "86   79159  2016      7           5    England    NaN\n",
       "87   79160  2015     11           4    England    NaN\n",
       "88   79161  2015     12           4    England    NaN\n",
       "89   79162  2016      1           4    England    NaN\n",
       "90   79163  2016      2           4    England    NaN\n",
       "91   79164  2016      3           4    England    NaN\n",
       "92   79165  2016      4           4    England    NaN\n",
       "93   79166  2016      5           4    England    NaN\n",
       "94   79167  2016      6           4    England    NaN\n",
       "95   79168  2016      7           4    England    NaN\n",
       "96   79169  2015     11           4    Finland    NaN\n",
       "97   79170  2015     12           4    Finland    NaN\n",
       "98   79171  2016      1           4    Finland    NaN\n",
       "99   79172  2016      2           4    Finland    NaN\n",
       "100  79173  2016      3           4    Finland    NaN\n",
       "101  79174  2016      4           4    Finland    NaN\n",
       "102  79175  2016      5           4    Finland    NaN\n",
       "103  79176  2016      6           4    Finland    NaN\n",
       "104  79177  2016      7           4    Finland    NaN\n",
       "\n",
       "[105 rows x 6 columns]>"
      ]
     },
     "execution_count": 8,
     "metadata": {},
     "output_type": "execute_result"
    }
   ],
   "source": [
    "test_data.describe"
   ]
  },
  {
   "cell_type": "code",
   "execution_count": 9,
   "metadata": {},
   "outputs": [
    {
     "data": {
      "text/plain": [
       "S_No           False\n",
       "Year           False\n",
       "Month          False\n",
       "Week           False\n",
       "Merchant_ID    False\n",
       "Product_ID     False\n",
       "Country        False\n",
       "Sales          False\n",
       "dtype: bool"
      ]
     },
     "execution_count": 9,
     "metadata": {},
     "output_type": "execute_result"
    }
   ],
   "source": [
    "train_data.isnull().any()"
   ]
  },
  {
   "cell_type": "code",
   "execution_count": 10,
   "metadata": {},
   "outputs": [
    {
     "data": {
      "text/plain": [
       "S_No          False\n",
       "Year          False\n",
       "Month         False\n",
       "Product_ID    False\n",
       "Country       False\n",
       "Sales          True\n",
       "dtype: bool"
      ]
     },
     "execution_count": 10,
     "metadata": {},
     "output_type": "execute_result"
    }
   ],
   "source": [
    "test_data.isnull().any()"
   ]
  },
  {
   "cell_type": "code",
   "execution_count": 11,
   "metadata": {},
   "outputs": [
    {
     "data": {
      "text/html": [
       "<div>\n",
       "<style scoped>\n",
       "    .dataframe tbody tr th:only-of-type {\n",
       "        vertical-align: middle;\n",
       "    }\n",
       "\n",
       "    .dataframe tbody tr th {\n",
       "        vertical-align: top;\n",
       "    }\n",
       "\n",
       "    .dataframe thead th {\n",
       "        text-align: right;\n",
       "    }\n",
       "</style>\n",
       "<table border=\"1\" class=\"dataframe\">\n",
       "  <thead>\n",
       "    <tr style=\"text-align: right;\">\n",
       "      <th></th>\n",
       "      <th>S_No</th>\n",
       "      <th>Year</th>\n",
       "      <th>Month</th>\n",
       "      <th>Week</th>\n",
       "      <th>Product_ID</th>\n",
       "      <th>Sales</th>\n",
       "    </tr>\n",
       "  </thead>\n",
       "  <tbody>\n",
       "    <tr>\n",
       "      <th>count</th>\n",
       "      <td>79072.00000</td>\n",
       "      <td>79072.000000</td>\n",
       "      <td>79072.000000</td>\n",
       "      <td>79072.000000</td>\n",
       "      <td>79072.000000</td>\n",
       "      <td>7.907200e+04</td>\n",
       "    </tr>\n",
       "    <tr>\n",
       "      <th>mean</th>\n",
       "      <td>39536.50000</td>\n",
       "      <td>2014.223935</td>\n",
       "      <td>6.282439</td>\n",
       "      <td>25.614086</td>\n",
       "      <td>2.168151</td>\n",
       "      <td>1.049678e+05</td>\n",
       "    </tr>\n",
       "    <tr>\n",
       "      <th>std</th>\n",
       "      <td>22826.26458</td>\n",
       "      <td>0.979109</td>\n",
       "      <td>3.477648</td>\n",
       "      <td>15.160151</td>\n",
       "      <td>1.136387</td>\n",
       "      <td>7.642310e+05</td>\n",
       "    </tr>\n",
       "    <tr>\n",
       "      <th>min</th>\n",
       "      <td>1.00000</td>\n",
       "      <td>2013.000000</td>\n",
       "      <td>1.000000</td>\n",
       "      <td>1.000000</td>\n",
       "      <td>1.000000</td>\n",
       "      <td>-2.406069e+06</td>\n",
       "    </tr>\n",
       "    <tr>\n",
       "      <th>25%</th>\n",
       "      <td>19768.75000</td>\n",
       "      <td>2013.000000</td>\n",
       "      <td>3.000000</td>\n",
       "      <td>12.000000</td>\n",
       "      <td>1.000000</td>\n",
       "      <td>9.524500e+02</td>\n",
       "    </tr>\n",
       "    <tr>\n",
       "      <th>50%</th>\n",
       "      <td>39536.50000</td>\n",
       "      <td>2014.000000</td>\n",
       "      <td>6.000000</td>\n",
       "      <td>25.000000</td>\n",
       "      <td>2.000000</td>\n",
       "      <td>6.400000e+03</td>\n",
       "    </tr>\n",
       "    <tr>\n",
       "      <th>75%</th>\n",
       "      <td>59304.25000</td>\n",
       "      <td>2015.000000</td>\n",
       "      <td>9.000000</td>\n",
       "      <td>39.000000</td>\n",
       "      <td>2.000000</td>\n",
       "      <td>2.418520e+04</td>\n",
       "    </tr>\n",
       "    <tr>\n",
       "      <th>max</th>\n",
       "      <td>79072.00000</td>\n",
       "      <td>2016.000000</td>\n",
       "      <td>12.000000</td>\n",
       "      <td>53.000000</td>\n",
       "      <td>5.000000</td>\n",
       "      <td>3.487431e+07</td>\n",
       "    </tr>\n",
       "  </tbody>\n",
       "</table>\n",
       "</div>"
      ],
      "text/plain": [
       "              S_No          Year         Month          Week    Product_ID  \\\n",
       "count  79072.00000  79072.000000  79072.000000  79072.000000  79072.000000   \n",
       "mean   39536.50000   2014.223935      6.282439     25.614086      2.168151   \n",
       "std    22826.26458      0.979109      3.477648     15.160151      1.136387   \n",
       "min        1.00000   2013.000000      1.000000      1.000000      1.000000   \n",
       "25%    19768.75000   2013.000000      3.000000     12.000000      1.000000   \n",
       "50%    39536.50000   2014.000000      6.000000     25.000000      2.000000   \n",
       "75%    59304.25000   2015.000000      9.000000     39.000000      2.000000   \n",
       "max    79072.00000   2016.000000     12.000000     53.000000      5.000000   \n",
       "\n",
       "              Sales  \n",
       "count  7.907200e+04  \n",
       "mean   1.049678e+05  \n",
       "std    7.642310e+05  \n",
       "min   -2.406069e+06  \n",
       "25%    9.524500e+02  \n",
       "50%    6.400000e+03  \n",
       "75%    2.418520e+04  \n",
       "max    3.487431e+07  "
      ]
     },
     "execution_count": 11,
     "metadata": {},
     "output_type": "execute_result"
    }
   ],
   "source": [
    "train_data.describe()"
   ]
  },
  {
   "cell_type": "code",
   "execution_count": 12,
   "metadata": {},
   "outputs": [
    {
     "data": {
      "text/html": [
       "<div>\n",
       "<style scoped>\n",
       "    .dataframe tbody tr th:only-of-type {\n",
       "        vertical-align: middle;\n",
       "    }\n",
       "\n",
       "    .dataframe tbody tr th {\n",
       "        vertical-align: top;\n",
       "    }\n",
       "\n",
       "    .dataframe thead th {\n",
       "        text-align: right;\n",
       "    }\n",
       "</style>\n",
       "<table border=\"1\" class=\"dataframe\">\n",
       "  <thead>\n",
       "    <tr style=\"text-align: right;\">\n",
       "      <th></th>\n",
       "      <th>S_No</th>\n",
       "      <th>Year</th>\n",
       "      <th>Month</th>\n",
       "      <th>Product_ID</th>\n",
       "      <th>Sales</th>\n",
       "    </tr>\n",
       "  </thead>\n",
       "  <tbody>\n",
       "    <tr>\n",
       "      <th>count</th>\n",
       "      <td>105.000000</td>\n",
       "      <td>105.000000</td>\n",
       "      <td>105.000000</td>\n",
       "      <td>105.000000</td>\n",
       "      <td>0.0</td>\n",
       "    </tr>\n",
       "    <tr>\n",
       "      <th>mean</th>\n",
       "      <td>79125.000000</td>\n",
       "      <td>2016.171429</td>\n",
       "      <td>6.028571</td>\n",
       "      <td>2.428571</td>\n",
       "      <td>NaN</td>\n",
       "    </tr>\n",
       "    <tr>\n",
       "      <th>std</th>\n",
       "      <td>30.454885</td>\n",
       "      <td>0.508715</td>\n",
       "      <td>3.571945</td>\n",
       "      <td>1.254662</td>\n",
       "      <td>NaN</td>\n",
       "    </tr>\n",
       "    <tr>\n",
       "      <th>min</th>\n",
       "      <td>79073.000000</td>\n",
       "      <td>2015.000000</td>\n",
       "      <td>1.000000</td>\n",
       "      <td>1.000000</td>\n",
       "      <td>NaN</td>\n",
       "    </tr>\n",
       "    <tr>\n",
       "      <th>25%</th>\n",
       "      <td>79099.000000</td>\n",
       "      <td>2016.000000</td>\n",
       "      <td>3.000000</td>\n",
       "      <td>2.000000</td>\n",
       "      <td>NaN</td>\n",
       "    </tr>\n",
       "    <tr>\n",
       "      <th>50%</th>\n",
       "      <td>79125.000000</td>\n",
       "      <td>2016.000000</td>\n",
       "      <td>6.000000</td>\n",
       "      <td>2.000000</td>\n",
       "      <td>NaN</td>\n",
       "    </tr>\n",
       "    <tr>\n",
       "      <th>75%</th>\n",
       "      <td>79151.000000</td>\n",
       "      <td>2016.000000</td>\n",
       "      <td>9.000000</td>\n",
       "      <td>4.000000</td>\n",
       "      <td>NaN</td>\n",
       "    </tr>\n",
       "    <tr>\n",
       "      <th>max</th>\n",
       "      <td>79177.000000</td>\n",
       "      <td>2017.000000</td>\n",
       "      <td>12.000000</td>\n",
       "      <td>5.000000</td>\n",
       "      <td>NaN</td>\n",
       "    </tr>\n",
       "  </tbody>\n",
       "</table>\n",
       "</div>"
      ],
      "text/plain": [
       "               S_No         Year       Month  Product_ID  Sales\n",
       "count    105.000000   105.000000  105.000000  105.000000    0.0\n",
       "mean   79125.000000  2016.171429    6.028571    2.428571    NaN\n",
       "std       30.454885     0.508715    3.571945    1.254662    NaN\n",
       "min    79073.000000  2015.000000    1.000000    1.000000    NaN\n",
       "25%    79099.000000  2016.000000    3.000000    2.000000    NaN\n",
       "50%    79125.000000  2016.000000    6.000000    2.000000    NaN\n",
       "75%    79151.000000  2016.000000    9.000000    4.000000    NaN\n",
       "max    79177.000000  2017.000000   12.000000    5.000000    NaN"
      ]
     },
     "execution_count": 12,
     "metadata": {},
     "output_type": "execute_result"
    }
   ],
   "source": [
    "test_data.describe()"
   ]
  },
  {
   "cell_type": "code",
   "execution_count": 13,
   "metadata": {},
   "outputs": [
    {
     "name": "stdout",
     "output_type": "stream",
     "text": [
      "<class 'pandas.core.frame.DataFrame'>\n",
      "RangeIndex: 79072 entries, 0 to 79071\n",
      "Data columns (total 8 columns):\n",
      "S_No           79072 non-null int64\n",
      "Year           79072 non-null int64\n",
      "Month          79072 non-null int64\n",
      "Week           79072 non-null int64\n",
      "Merchant_ID    79072 non-null object\n",
      "Product_ID     79072 non-null int64\n",
      "Country        79072 non-null object\n",
      "Sales          79072 non-null float64\n",
      "dtypes: float64(1), int64(5), object(2)\n",
      "memory usage: 4.8+ MB\n"
     ]
    }
   ],
   "source": [
    "train_data.info()"
   ]
  },
  {
   "cell_type": "code",
   "execution_count": 14,
   "metadata": {},
   "outputs": [
    {
     "name": "stdout",
     "output_type": "stream",
     "text": [
      "<class 'pandas.core.frame.DataFrame'>\n",
      "RangeIndex: 105 entries, 0 to 104\n",
      "Data columns (total 6 columns):\n",
      "S_No          105 non-null int64\n",
      "Year          105 non-null int64\n",
      "Month         105 non-null int64\n",
      "Product_ID    105 non-null int64\n",
      "Country       105 non-null object\n",
      "Sales         0 non-null float64\n",
      "dtypes: float64(1), int64(4), object(1)\n",
      "memory usage: 5.0+ KB\n"
     ]
    }
   ],
   "source": [
    "test_data.info()"
   ]
  },
  {
   "cell_type": "code",
   "execution_count": 15,
   "metadata": {},
   "outputs": [
    {
     "data": {
      "text/plain": [
       "count    7.907200e+04\n",
       "mean     1.049678e+05\n",
       "std      7.642310e+05\n",
       "min     -2.406069e+06\n",
       "25%      9.524500e+02\n",
       "50%      6.400000e+03\n",
       "75%      2.418520e+04\n",
       "max      3.487431e+07\n",
       "Name: Sales, dtype: float64"
      ]
     },
     "execution_count": 15,
     "metadata": {},
     "output_type": "execute_result"
    },
    {
     "data": {
      "image/png": "[encoded data removed]",
      "text/plain": [
       "<Figure size 432x288 with 1 Axes>"
      ]
     },
     "metadata": {},
     "output_type": "display_data"
    }
   ],
   "source": [
    "sns.violinplot(train_data['Year'], train_data['Sales']) #Variable Plot\n",
    "sns.despine()\n",
    "train_data['Sales'].describe()"
   ]
  },
  {
   "cell_type": "code",
   "execution_count": 16,
   "metadata": {},
   "outputs": [
    {
     "name": "stderr",
     "output_type": "stream",
     "text": [
      "c:\\users\\naimish\\appdata\\local\\programs\\python\\python35\\lib\\site-packages\\matplotlib\\axes\\_axes.py:6462: UserWarning: The 'normed' kwarg is deprecated, and has been replaced by the 'density' kwarg.\n",
      "  warnings.warn(\"The 'normed' kwarg is deprecated, and has been \"\n"
     ]
    },
    {
     "data": {
      "image/png": "[encoded data removed]",
      "text/plain": [
       "<Figure size 432x288 with 1 Axes>"
      ]
     },
     "metadata": {},
     "output_type": "display_data"
    }
   ],
   "source": [
    "sns.distplot(train_data['Year']);"
   ]
  },
  {
   "cell_type": "code",
   "execution_count": 17,
   "metadata": {},
   "outputs": [
    {
     "name": "stderr",
     "output_type": "stream",
     "text": [
      "c:\\users\\naimish\\appdata\\local\\programs\\python\\python35\\lib\\site-packages\\matplotlib\\axes\\_axes.py:6462: UserWarning: The 'normed' kwarg is deprecated, and has been replaced by the 'density' kwarg.\n",
      "  warnings.warn(\"The 'normed' kwarg is deprecated, and has been \"\n"
     ]
    },
    {
     "data": {
      "image/png": "[encoded data removed]",
      "text/plain": [
       "<Figure size 432x288 with 1 Axes>"
      ]
     },
     "metadata": {},
     "output_type": "display_data"
    }
   ],
   "source": [
    "sns.distplot(train_data['Month']);"
   ]
  },
  {
   "cell_type": "code",
   "execution_count": 18,
   "metadata": {},
   "outputs": [
    {
     "name": "stderr",
     "output_type": "stream",
     "text": [
      "c:\\users\\naimish\\appdata\\local\\programs\\python\\python35\\lib\\site-packages\\matplotlib\\axes\\_axes.py:6462: UserWarning: The 'normed' kwarg is deprecated, and has been replaced by the 'density' kwarg.\n",
      "  warnings.warn(\"The 'normed' kwarg is deprecated, and has been \"\n"
     ]
    },
    {
     "data": {
      "image/png": "[encoded data removed]",
      "text/plain": [
       "<Figure size 432x288 with 1 Axes>"
      ]
     },
     "metadata": {},
     "output_type": "display_data"
    }
   ],
   "source": [
    "sns.distplot(train_data['Sales'],vertical = True);"
   ]
  },
  {
   "cell_type": "code",
   "execution_count": 19,
   "metadata": {},
   "outputs": [
    {
     "name": "stderr",
     "output_type": "stream",
     "text": [
      "c:\\users\\naimish\\appdata\\local\\programs\\python\\python35\\lib\\site-packages\\matplotlib\\axes\\_axes.py:6462: UserWarning: The 'normed' kwarg is deprecated, and has been replaced by the 'density' kwarg.\n",
      "  warnings.warn(\"The 'normed' kwarg is deprecated, and has been \"\n"
     ]
    },
    {
     "data": {
      "image/png": "[encoded data removed]",
      "text/plain": [
       "<Figure size 432x288 with 1 Axes>"
      ]
     },
     "metadata": {},
     "output_type": "display_data"
    }
   ],
   "source": [
    "from scipy.stats import norm\n",
    "sns.distplot(train_data['Sales'],fit=norm,kde=False);"
   ]
  },
  {
   "cell_type": "code",
   "execution_count": 20,
   "metadata": {},
   "outputs": [
    {
     "data": {
      "text/plain": [
       "<matplotlib.axes._subplots.AxesSubplot at 0x19aea9d4358>"
      ]
     },
     "execution_count": 20,
     "metadata": {},
     "output_type": "execute_result"
    },
    {
     "data": {
      "image/png": "[encoded data removed]",
      "text/plain": [
       "<Figure size 720x720 with 2 Axes>"
      ]
     },
     "metadata": {},
     "output_type": "display_data"
    }
   ],
   "source": [
    "f,ax = plt.subplots(figsize=(10,10))\n",
    "sns.heatmap(train_data.corr(), annot=True, linewidths=.5, fmt= '.1f',ax=ax)"
   ]
  },
  {
   "cell_type": "code",
   "execution_count": 21,
   "metadata": {},
   "outputs": [
    {
     "data": {
      "text/html": [
       "<div>\n",
       "<style scoped>\n",
       "    .dataframe tbody tr th:only-of-type {\n",
       "        vertical-align: middle;\n",
       "    }\n",
       "\n",
       "    .dataframe tbody tr th {\n",
       "        vertical-align: top;\n",
       "    }\n",
       "\n",
       "    .dataframe thead th {\n",
       "        text-align: right;\n",
       "    }\n",
       "</style>\n",
       "<table border=\"1\" class=\"dataframe\">\n",
       "  <thead>\n",
       "    <tr style=\"text-align: right;\">\n",
       "      <th></th>\n",
       "      <th>Sales</th>\n",
       "    </tr>\n",
       "    <tr>\n",
       "      <th>Country</th>\n",
       "      <th></th>\n",
       "    </tr>\n",
       "  </thead>\n",
       "  <tbody>\n",
       "    <tr>\n",
       "      <th>Argentina</th>\n",
       "      <td>10370</td>\n",
       "    </tr>\n",
       "    <tr>\n",
       "      <th>Belgium</th>\n",
       "      <td>1891</td>\n",
       "    </tr>\n",
       "    <tr>\n",
       "      <th>Columbia</th>\n",
       "      <td>38270</td>\n",
       "    </tr>\n",
       "    <tr>\n",
       "      <th>Denmark</th>\n",
       "      <td>14452</td>\n",
       "    </tr>\n",
       "    <tr>\n",
       "      <th>England</th>\n",
       "      <td>5764</td>\n",
       "    </tr>\n",
       "    <tr>\n",
       "      <th>Finland</th>\n",
       "      <td>8325</td>\n",
       "    </tr>\n",
       "  </tbody>\n",
       "</table>\n",
       "</div>"
      ],
      "text/plain": [
       "           Sales\n",
       "Country         \n",
       "Argentina  10370\n",
       "Belgium     1891\n",
       "Columbia   38270\n",
       "Denmark    14452\n",
       "England     5764\n",
       "Finland     8325"
      ]
     },
     "execution_count": 21,
     "metadata": {},
     "output_type": "execute_result"
    }
   ],
   "source": [
    "train_data[['Country','Sales']].groupby('Country').count()"
   ]
  },
  {
   "cell_type": "code",
   "execution_count": 22,
   "metadata": {},
   "outputs": [
    {
     "data": {
      "image/png": "[encoded data removed]",
      "text/plain": [
       "<Figure size 432x288 with 1 Axes>"
      ]
     },
     "metadata": {},
     "output_type": "display_data"
    }
   ],
   "source": [
    "sns.barplot(train_data['Country'],train_data['Sales']);"
   ]
  },
  {
   "cell_type": "code",
   "execution_count": 23,
   "metadata": {},
   "outputs": [
    {
     "data": {
      "text/html": [
       "<div>\n",
       "<style scoped>\n",
       "    .dataframe tbody tr th:only-of-type {\n",
       "        vertical-align: middle;\n",
       "    }\n",
       "\n",
       "    .dataframe tbody tr th {\n",
       "        vertical-align: top;\n",
       "    }\n",
       "\n",
       "    .dataframe thead th {\n",
       "        text-align: right;\n",
       "    }\n",
       "</style>\n",
       "<table border=\"1\" class=\"dataframe\">\n",
       "  <thead>\n",
       "    <tr style=\"text-align: right;\">\n",
       "      <th></th>\n",
       "      <th>S_No</th>\n",
       "      <th>Year</th>\n",
       "      <th>Month</th>\n",
       "      <th>Week</th>\n",
       "      <th>Merchant_ID</th>\n",
       "      <th>Product_ID</th>\n",
       "      <th>Sales</th>\n",
       "    </tr>\n",
       "    <tr>\n",
       "      <th>Country</th>\n",
       "      <th></th>\n",
       "      <th></th>\n",
       "      <th></th>\n",
       "      <th></th>\n",
       "      <th></th>\n",
       "      <th></th>\n",
       "      <th></th>\n",
       "    </tr>\n",
       "  </thead>\n",
       "  <tbody>\n",
       "    <tr>\n",
       "      <th>Argentina</th>\n",
       "      <td>10370</td>\n",
       "      <td>10370</td>\n",
       "      <td>10370</td>\n",
       "      <td>10370</td>\n",
       "      <td>10370</td>\n",
       "      <td>10370</td>\n",
       "      <td>10370</td>\n",
       "    </tr>\n",
       "    <tr>\n",
       "      <th>Belgium</th>\n",
       "      <td>1891</td>\n",
       "      <td>1891</td>\n",
       "      <td>1891</td>\n",
       "      <td>1891</td>\n",
       "      <td>1891</td>\n",
       "      <td>1891</td>\n",
       "      <td>1891</td>\n",
       "    </tr>\n",
       "    <tr>\n",
       "      <th>Columbia</th>\n",
       "      <td>38270</td>\n",
       "      <td>38270</td>\n",
       "      <td>38270</td>\n",
       "      <td>38270</td>\n",
       "      <td>38270</td>\n",
       "      <td>38270</td>\n",
       "      <td>38270</td>\n",
       "    </tr>\n",
       "    <tr>\n",
       "      <th>Denmark</th>\n",
       "      <td>14452</td>\n",
       "      <td>14452</td>\n",
       "      <td>14452</td>\n",
       "      <td>14452</td>\n",
       "      <td>14452</td>\n",
       "      <td>14452</td>\n",
       "      <td>14452</td>\n",
       "    </tr>\n",
       "    <tr>\n",
       "      <th>England</th>\n",
       "      <td>5764</td>\n",
       "      <td>5764</td>\n",
       "      <td>5764</td>\n",
       "      <td>5764</td>\n",
       "      <td>5764</td>\n",
       "      <td>5764</td>\n",
       "      <td>5764</td>\n",
       "    </tr>\n",
       "    <tr>\n",
       "      <th>Finland</th>\n",
       "      <td>8325</td>\n",
       "      <td>8325</td>\n",
       "      <td>8325</td>\n",
       "      <td>8325</td>\n",
       "      <td>8325</td>\n",
       "      <td>8325</td>\n",
       "      <td>8325</td>\n",
       "    </tr>\n",
       "  </tbody>\n",
       "</table>\n",
       "</div>"
      ],
      "text/plain": [
       "            S_No   Year  Month   Week  Merchant_ID  Product_ID  Sales\n",
       "Country                                                              \n",
       "Argentina  10370  10370  10370  10370        10370       10370  10370\n",
       "Belgium     1891   1891   1891   1891         1891        1891   1891\n",
       "Columbia   38270  38270  38270  38270        38270       38270  38270\n",
       "Denmark    14452  14452  14452  14452        14452       14452  14452\n",
       "England     5764   5764   5764   5764         5764        5764   5764\n",
       "Finland     8325   8325   8325   8325         8325        8325   8325"
      ]
     },
     "execution_count": 23,
     "metadata": {},
     "output_type": "execute_result"
    }
   ],
   "source": [
    "train_data.groupby('Country').count()"
   ]
  },
  {
   "cell_type": "code",
   "execution_count": 24,
   "metadata": {},
   "outputs": [],
   "source": [
    "#sns.barplot(train_data['Merchant_ID'],train_data['Sales']);"
   ]
  },
  {
   "cell_type": "code",
   "execution_count": 25,
   "metadata": {},
   "outputs": [
    {
     "data": {
      "text/html": [
       "<div>\n",
       "<style scoped>\n",
       "    .dataframe tbody tr th:only-of-type {\n",
       "        vertical-align: middle;\n",
       "    }\n",
       "\n",
       "    .dataframe tbody tr th {\n",
       "        vertical-align: top;\n",
       "    }\n",
       "\n",
       "    .dataframe thead th {\n",
       "        text-align: right;\n",
       "    }\n",
       "</style>\n",
       "<table border=\"1\" class=\"dataframe\">\n",
       "  <thead>\n",
       "    <tr style=\"text-align: right;\">\n",
       "      <th></th>\n",
       "      <th>S_No</th>\n",
       "      <th>Year</th>\n",
       "      <th>Month</th>\n",
       "      <th>Week</th>\n",
       "      <th>Merchant_ID</th>\n",
       "      <th>Product_ID</th>\n",
       "      <th>Country</th>\n",
       "      <th>Sales</th>\n",
       "    </tr>\n",
       "  </thead>\n",
       "  <tbody>\n",
       "    <tr>\n",
       "      <th>0</th>\n",
       "      <td>1</td>\n",
       "      <td>2013</td>\n",
       "      <td>1</td>\n",
       "      <td>1</td>\n",
       "      <td>ar00001</td>\n",
       "      <td>1</td>\n",
       "      <td>Argentina</td>\n",
       "      <td>157500.0</td>\n",
       "    </tr>\n",
       "    <tr>\n",
       "      <th>1</th>\n",
       "      <td>2</td>\n",
       "      <td>2013</td>\n",
       "      <td>1</td>\n",
       "      <td>1</td>\n",
       "      <td>ar00003</td>\n",
       "      <td>1</td>\n",
       "      <td>Argentina</td>\n",
       "      <td>39375.0</td>\n",
       "    </tr>\n",
       "    <tr>\n",
       "      <th>2</th>\n",
       "      <td>3</td>\n",
       "      <td>2013</td>\n",
       "      <td>1</td>\n",
       "      <td>1</td>\n",
       "      <td>ar00004</td>\n",
       "      <td>1</td>\n",
       "      <td>Argentina</td>\n",
       "      <td>15750.0</td>\n",
       "    </tr>\n",
       "    <tr>\n",
       "      <th>3</th>\n",
       "      <td>4</td>\n",
       "      <td>2013</td>\n",
       "      <td>1</td>\n",
       "      <td>1</td>\n",
       "      <td>ar00007</td>\n",
       "      <td>1</td>\n",
       "      <td>Argentina</td>\n",
       "      <td>47250.0</td>\n",
       "    </tr>\n",
       "    <tr>\n",
       "      <th>4</th>\n",
       "      <td>5</td>\n",
       "      <td>2013</td>\n",
       "      <td>1</td>\n",
       "      <td>1</td>\n",
       "      <td>ar00008</td>\n",
       "      <td>1</td>\n",
       "      <td>Argentina</td>\n",
       "      <td>283500.0</td>\n",
       "    </tr>\n",
       "    <tr>\n",
       "      <th>5</th>\n",
       "      <td>6</td>\n",
       "      <td>2013</td>\n",
       "      <td>1</td>\n",
       "      <td>1</td>\n",
       "      <td>ar000011</td>\n",
       "      <td>1</td>\n",
       "      <td>Argentina</td>\n",
       "      <td>0.0</td>\n",
       "    </tr>\n",
       "  </tbody>\n",
       "</table>\n",
       "</div>"
      ],
      "text/plain": [
       "   S_No  Year  Month  Week Merchant_ID  Product_ID    Country     Sales\n",
       "0     1  2013      1     1     ar00001           1  Argentina  157500.0\n",
       "1     2  2013      1     1     ar00003           1  Argentina   39375.0\n",
       "2     3  2013      1     1     ar00004           1  Argentina   15750.0\n",
       "3     4  2013      1     1     ar00007           1  Argentina   47250.0\n",
       "4     5  2013      1     1     ar00008           1  Argentina  283500.0\n",
       "5     6  2013      1     1    ar000011           1  Argentina       0.0"
      ]
     },
     "execution_count": 25,
     "metadata": {},
     "output_type": "execute_result"
    }
   ],
   "source": [
    "train_data.head(6)"
   ]
  },
  {
   "cell_type": "code",
   "execution_count": 26,
   "metadata": {},
   "outputs": [],
   "source": [
    "train_data.drop('Merchant_ID',axis=1,inplace=True)\n",
    "#train_data = pd.get_dummies(train_data)"
   ]
  },
  {
   "cell_type": "code",
   "execution_count": 27,
   "metadata": {},
   "outputs": [
    {
     "data": {
      "text/html": [
       "<div>\n",
       "<style scoped>\n",
       "    .dataframe tbody tr th:only-of-type {\n",
       "        vertical-align: middle;\n",
       "    }\n",
       "\n",
       "    .dataframe tbody tr th {\n",
       "        vertical-align: top;\n",
       "    }\n",
       "\n",
       "    .dataframe thead th {\n",
       "        text-align: right;\n",
       "    }\n",
       "</style>\n",
       "<table border=\"1\" class=\"dataframe\">\n",
       "  <thead>\n",
       "    <tr style=\"text-align: right;\">\n",
       "      <th></th>\n",
       "      <th>S_No</th>\n",
       "      <th>Year</th>\n",
       "      <th>Month</th>\n",
       "      <th>Week</th>\n",
       "      <th>Product_ID</th>\n",
       "      <th>Country</th>\n",
       "      <th>Sales</th>\n",
       "    </tr>\n",
       "  </thead>\n",
       "  <tbody>\n",
       "    <tr>\n",
       "      <th>0</th>\n",
       "      <td>1</td>\n",
       "      <td>2013</td>\n",
       "      <td>1</td>\n",
       "      <td>1</td>\n",
       "      <td>1</td>\n",
       "      <td>Argentina</td>\n",
       "      <td>157500.0</td>\n",
       "    </tr>\n",
       "    <tr>\n",
       "      <th>1</th>\n",
       "      <td>2</td>\n",
       "      <td>2013</td>\n",
       "      <td>1</td>\n",
       "      <td>1</td>\n",
       "      <td>1</td>\n",
       "      <td>Argentina</td>\n",
       "      <td>39375.0</td>\n",
       "    </tr>\n",
       "    <tr>\n",
       "      <th>2</th>\n",
       "      <td>3</td>\n",
       "      <td>2013</td>\n",
       "      <td>1</td>\n",
       "      <td>1</td>\n",
       "      <td>1</td>\n",
       "      <td>Argentina</td>\n",
       "      <td>15750.0</td>\n",
       "    </tr>\n",
       "    <tr>\n",
       "      <th>3</th>\n",
       "      <td>4</td>\n",
       "      <td>2013</td>\n",
       "      <td>1</td>\n",
       "      <td>1</td>\n",
       "      <td>1</td>\n",
       "      <td>Argentina</td>\n",
       "      <td>47250.0</td>\n",
       "    </tr>\n",
       "    <tr>\n",
       "      <th>4</th>\n",
       "      <td>5</td>\n",
       "      <td>2013</td>\n",
       "      <td>1</td>\n",
       "      <td>1</td>\n",
       "      <td>1</td>\n",
       "      <td>Argentina</td>\n",
       "      <td>283500.0</td>\n",
       "    </tr>\n",
       "    <tr>\n",
       "      <th>5</th>\n",
       "      <td>6</td>\n",
       "      <td>2013</td>\n",
       "      <td>1</td>\n",
       "      <td>1</td>\n",
       "      <td>1</td>\n",
       "      <td>Argentina</td>\n",
       "      <td>0.0</td>\n",
       "    </tr>\n",
       "    <tr>\n",
       "      <th>6</th>\n",
       "      <td>7</td>\n",
       "      <td>2013</td>\n",
       "      <td>1</td>\n",
       "      <td>1</td>\n",
       "      <td>1</td>\n",
       "      <td>Argentina</td>\n",
       "      <td>1575.0</td>\n",
       "    </tr>\n",
       "    <tr>\n",
       "      <th>7</th>\n",
       "      <td>8</td>\n",
       "      <td>2013</td>\n",
       "      <td>1</td>\n",
       "      <td>1</td>\n",
       "      <td>1</td>\n",
       "      <td>Argentina</td>\n",
       "      <td>47250.0</td>\n",
       "    </tr>\n",
       "    <tr>\n",
       "      <th>8</th>\n",
       "      <td>9</td>\n",
       "      <td>2013</td>\n",
       "      <td>1</td>\n",
       "      <td>1</td>\n",
       "      <td>1</td>\n",
       "      <td>Argentina</td>\n",
       "      <td>0.0</td>\n",
       "    </tr>\n",
       "    <tr>\n",
       "      <th>9</th>\n",
       "      <td>10</td>\n",
       "      <td>2013</td>\n",
       "      <td>1</td>\n",
       "      <td>1</td>\n",
       "      <td>1</td>\n",
       "      <td>Argentina</td>\n",
       "      <td>0.0</td>\n",
       "    </tr>\n",
       "  </tbody>\n",
       "</table>\n",
       "</div>"
      ],
      "text/plain": [
       "   S_No  Year  Month  Week  Product_ID    Country     Sales\n",
       "0     1  2013      1     1           1  Argentina  157500.0\n",
       "1     2  2013      1     1           1  Argentina   39375.0\n",
       "2     3  2013      1     1           1  Argentina   15750.0\n",
       "3     4  2013      1     1           1  Argentina   47250.0\n",
       "4     5  2013      1     1           1  Argentina  283500.0\n",
       "5     6  2013      1     1           1  Argentina       0.0\n",
       "6     7  2013      1     1           1  Argentina    1575.0\n",
       "7     8  2013      1     1           1  Argentina   47250.0\n",
       "8     9  2013      1     1           1  Argentina       0.0\n",
       "9    10  2013      1     1           1  Argentina       0.0"
      ]
     },
     "execution_count": 27,
     "metadata": {},
     "output_type": "execute_result"
    }
   ],
   "source": [
    "train_data.head(10)"
   ]
  },
  {
   "cell_type": "raw",
   "metadata": {},
   "source": []
  },
  {
   "cell_type": "code",
   "execution_count": null,
   "metadata": {},
   "outputs": [],
   "source": []
  },
  {
   "cell_type": "code",
   "execution_count": null,
   "metadata": {},
   "outputs": [],
   "source": []
  },
  {
   "cell_type": "code",
   "execution_count": 28,
   "metadata": {},
   "outputs": [
    {
     "data": {
      "text/html": [
       "<div>\n",
       "<style scoped>\n",
       "    .dataframe tbody tr th:only-of-type {\n",
       "        vertical-align: middle;\n",
       "    }\n",
       "\n",
       "    .dataframe tbody tr th {\n",
       "        vertical-align: top;\n",
       "    }\n",
       "\n",
       "    .dataframe thead th {\n",
       "        text-align: right;\n",
       "    }\n",
       "</style>\n",
       "<table border=\"1\" class=\"dataframe\">\n",
       "  <thead>\n",
       "    <tr style=\"text-align: right;\">\n",
       "      <th></th>\n",
       "      <th>Year</th>\n",
       "      <th>Month</th>\n",
       "      <th>Week</th>\n",
       "      <th>Product_ID</th>\n",
       "      <th>Country</th>\n",
       "      <th>Sales</th>\n",
       "    </tr>\n",
       "  </thead>\n",
       "  <tbody>\n",
       "    <tr>\n",
       "      <th>0</th>\n",
       "      <td>2013</td>\n",
       "      <td>1</td>\n",
       "      <td>1</td>\n",
       "      <td>1</td>\n",
       "      <td>Argentina</td>\n",
       "      <td>157500.00</td>\n",
       "    </tr>\n",
       "    <tr>\n",
       "      <th>1</th>\n",
       "      <td>2013</td>\n",
       "      <td>1</td>\n",
       "      <td>1</td>\n",
       "      <td>1</td>\n",
       "      <td>Argentina</td>\n",
       "      <td>39375.00</td>\n",
       "    </tr>\n",
       "    <tr>\n",
       "      <th>2</th>\n",
       "      <td>2013</td>\n",
       "      <td>1</td>\n",
       "      <td>1</td>\n",
       "      <td>1</td>\n",
       "      <td>Argentina</td>\n",
       "      <td>15750.00</td>\n",
       "    </tr>\n",
       "    <tr>\n",
       "      <th>3</th>\n",
       "      <td>2013</td>\n",
       "      <td>1</td>\n",
       "      <td>1</td>\n",
       "      <td>1</td>\n",
       "      <td>Argentina</td>\n",
       "      <td>47250.00</td>\n",
       "    </tr>\n",
       "    <tr>\n",
       "      <th>4</th>\n",
       "      <td>2013</td>\n",
       "      <td>1</td>\n",
       "      <td>1</td>\n",
       "      <td>1</td>\n",
       "      <td>Argentina</td>\n",
       "      <td>283500.00</td>\n",
       "    </tr>\n",
       "    <tr>\n",
       "      <th>5</th>\n",
       "      <td>2013</td>\n",
       "      <td>1</td>\n",
       "      <td>1</td>\n",
       "      <td>1</td>\n",
       "      <td>Argentina</td>\n",
       "      <td>0.00</td>\n",
       "    </tr>\n",
       "    <tr>\n",
       "      <th>6</th>\n",
       "      <td>2013</td>\n",
       "      <td>1</td>\n",
       "      <td>1</td>\n",
       "      <td>1</td>\n",
       "      <td>Argentina</td>\n",
       "      <td>1575.00</td>\n",
       "    </tr>\n",
       "    <tr>\n",
       "      <th>7</th>\n",
       "      <td>2013</td>\n",
       "      <td>1</td>\n",
       "      <td>1</td>\n",
       "      <td>1</td>\n",
       "      <td>Argentina</td>\n",
       "      <td>47250.00</td>\n",
       "    </tr>\n",
       "    <tr>\n",
       "      <th>8</th>\n",
       "      <td>2013</td>\n",
       "      <td>1</td>\n",
       "      <td>1</td>\n",
       "      <td>1</td>\n",
       "      <td>Argentina</td>\n",
       "      <td>0.00</td>\n",
       "    </tr>\n",
       "    <tr>\n",
       "      <th>9</th>\n",
       "      <td>2013</td>\n",
       "      <td>1</td>\n",
       "      <td>1</td>\n",
       "      <td>1</td>\n",
       "      <td>Argentina</td>\n",
       "      <td>0.00</td>\n",
       "    </tr>\n",
       "    <tr>\n",
       "      <th>10</th>\n",
       "      <td>2013</td>\n",
       "      <td>1</td>\n",
       "      <td>1</td>\n",
       "      <td>1</td>\n",
       "      <td>Argentina</td>\n",
       "      <td>277200.00</td>\n",
       "    </tr>\n",
       "    <tr>\n",
       "      <th>11</th>\n",
       "      <td>2013</td>\n",
       "      <td>1</td>\n",
       "      <td>1</td>\n",
       "      <td>1</td>\n",
       "      <td>Argentina</td>\n",
       "      <td>12600.00</td>\n",
       "    </tr>\n",
       "    <tr>\n",
       "      <th>12</th>\n",
       "      <td>2013</td>\n",
       "      <td>1</td>\n",
       "      <td>1</td>\n",
       "      <td>1</td>\n",
       "      <td>Argentina</td>\n",
       "      <td>126000.00</td>\n",
       "    </tr>\n",
       "    <tr>\n",
       "      <th>13</th>\n",
       "      <td>2013</td>\n",
       "      <td>1</td>\n",
       "      <td>1</td>\n",
       "      <td>1</td>\n",
       "      <td>Argentina</td>\n",
       "      <td>1417500.00</td>\n",
       "    </tr>\n",
       "    <tr>\n",
       "      <th>14</th>\n",
       "      <td>2013</td>\n",
       "      <td>1</td>\n",
       "      <td>1</td>\n",
       "      <td>1</td>\n",
       "      <td>Argentina</td>\n",
       "      <td>472500.00</td>\n",
       "    </tr>\n",
       "    <tr>\n",
       "      <th>15</th>\n",
       "      <td>2013</td>\n",
       "      <td>1</td>\n",
       "      <td>1</td>\n",
       "      <td>1</td>\n",
       "      <td>Argentina</td>\n",
       "      <td>78750.00</td>\n",
       "    </tr>\n",
       "    <tr>\n",
       "      <th>16</th>\n",
       "      <td>2013</td>\n",
       "      <td>1</td>\n",
       "      <td>1</td>\n",
       "      <td>1</td>\n",
       "      <td>Argentina</td>\n",
       "      <td>132300.00</td>\n",
       "    </tr>\n",
       "    <tr>\n",
       "      <th>17</th>\n",
       "      <td>2013</td>\n",
       "      <td>1</td>\n",
       "      <td>1</td>\n",
       "      <td>1</td>\n",
       "      <td>Argentina</td>\n",
       "      <td>0.00</td>\n",
       "    </tr>\n",
       "    <tr>\n",
       "      <th>18</th>\n",
       "      <td>2013</td>\n",
       "      <td>1</td>\n",
       "      <td>1</td>\n",
       "      <td>1</td>\n",
       "      <td>Argentina</td>\n",
       "      <td>94500.00</td>\n",
       "    </tr>\n",
       "    <tr>\n",
       "      <th>19</th>\n",
       "      <td>2013</td>\n",
       "      <td>1</td>\n",
       "      <td>1</td>\n",
       "      <td>1</td>\n",
       "      <td>Argentina</td>\n",
       "      <td>7875.00</td>\n",
       "    </tr>\n",
       "    <tr>\n",
       "      <th>20</th>\n",
       "      <td>2013</td>\n",
       "      <td>1</td>\n",
       "      <td>1</td>\n",
       "      <td>1</td>\n",
       "      <td>Argentina</td>\n",
       "      <td>173250.00</td>\n",
       "    </tr>\n",
       "    <tr>\n",
       "      <th>21</th>\n",
       "      <td>2013</td>\n",
       "      <td>1</td>\n",
       "      <td>1</td>\n",
       "      <td>1</td>\n",
       "      <td>Argentina</td>\n",
       "      <td>22050.00</td>\n",
       "    </tr>\n",
       "    <tr>\n",
       "      <th>22</th>\n",
       "      <td>2013</td>\n",
       "      <td>1</td>\n",
       "      <td>1</td>\n",
       "      <td>1</td>\n",
       "      <td>Argentina</td>\n",
       "      <td>236250.00</td>\n",
       "    </tr>\n",
       "    <tr>\n",
       "      <th>23</th>\n",
       "      <td>2013</td>\n",
       "      <td>1</td>\n",
       "      <td>1</td>\n",
       "      <td>1</td>\n",
       "      <td>Argentina</td>\n",
       "      <td>510300.00</td>\n",
       "    </tr>\n",
       "    <tr>\n",
       "      <th>24</th>\n",
       "      <td>2013</td>\n",
       "      <td>1</td>\n",
       "      <td>1</td>\n",
       "      <td>1</td>\n",
       "      <td>Argentina</td>\n",
       "      <td>9450.00</td>\n",
       "    </tr>\n",
       "    <tr>\n",
       "      <th>25</th>\n",
       "      <td>2013</td>\n",
       "      <td>1</td>\n",
       "      <td>1</td>\n",
       "      <td>1</td>\n",
       "      <td>Argentina</td>\n",
       "      <td>9450.00</td>\n",
       "    </tr>\n",
       "    <tr>\n",
       "      <th>26</th>\n",
       "      <td>2013</td>\n",
       "      <td>1</td>\n",
       "      <td>1</td>\n",
       "      <td>1</td>\n",
       "      <td>Argentina</td>\n",
       "      <td>157500.00</td>\n",
       "    </tr>\n",
       "    <tr>\n",
       "      <th>27</th>\n",
       "      <td>2013</td>\n",
       "      <td>1</td>\n",
       "      <td>1</td>\n",
       "      <td>1</td>\n",
       "      <td>Argentina</td>\n",
       "      <td>6300.00</td>\n",
       "    </tr>\n",
       "    <tr>\n",
       "      <th>28</th>\n",
       "      <td>2013</td>\n",
       "      <td>1</td>\n",
       "      <td>2</td>\n",
       "      <td>1</td>\n",
       "      <td>Argentina</td>\n",
       "      <td>157500.00</td>\n",
       "    </tr>\n",
       "    <tr>\n",
       "      <th>29</th>\n",
       "      <td>2013</td>\n",
       "      <td>1</td>\n",
       "      <td>2</td>\n",
       "      <td>1</td>\n",
       "      <td>Argentina</td>\n",
       "      <td>315000.00</td>\n",
       "    </tr>\n",
       "    <tr>\n",
       "      <th>...</th>\n",
       "      <td>...</td>\n",
       "      <td>...</td>\n",
       "      <td>...</td>\n",
       "      <td>...</td>\n",
       "      <td>...</td>\n",
       "      <td>...</td>\n",
       "    </tr>\n",
       "    <tr>\n",
       "      <th>79042</th>\n",
       "      <td>2015</td>\n",
       "      <td>10</td>\n",
       "      <td>44</td>\n",
       "      <td>4</td>\n",
       "      <td>Finland</td>\n",
       "      <td>18153.97</td>\n",
       "    </tr>\n",
       "    <tr>\n",
       "      <th>79043</th>\n",
       "      <td>2015</td>\n",
       "      <td>10</td>\n",
       "      <td>44</td>\n",
       "      <td>4</td>\n",
       "      <td>Finland</td>\n",
       "      <td>75.58</td>\n",
       "    </tr>\n",
       "    <tr>\n",
       "      <th>79044</th>\n",
       "      <td>2015</td>\n",
       "      <td>10</td>\n",
       "      <td>44</td>\n",
       "      <td>4</td>\n",
       "      <td>Finland</td>\n",
       "      <td>31138.40</td>\n",
       "    </tr>\n",
       "    <tr>\n",
       "      <th>79045</th>\n",
       "      <td>2015</td>\n",
       "      <td>10</td>\n",
       "      <td>44</td>\n",
       "      <td>4</td>\n",
       "      <td>Finland</td>\n",
       "      <td>174813.69</td>\n",
       "    </tr>\n",
       "    <tr>\n",
       "      <th>79046</th>\n",
       "      <td>2015</td>\n",
       "      <td>10</td>\n",
       "      <td>44</td>\n",
       "      <td>4</td>\n",
       "      <td>Finland</td>\n",
       "      <td>193481.60</td>\n",
       "    </tr>\n",
       "    <tr>\n",
       "      <th>79047</th>\n",
       "      <td>2015</td>\n",
       "      <td>10</td>\n",
       "      <td>44</td>\n",
       "      <td>4</td>\n",
       "      <td>Finland</td>\n",
       "      <td>206178.20</td>\n",
       "    </tr>\n",
       "    <tr>\n",
       "      <th>79048</th>\n",
       "      <td>2015</td>\n",
       "      <td>10</td>\n",
       "      <td>44</td>\n",
       "      <td>4</td>\n",
       "      <td>Finland</td>\n",
       "      <td>311082.60</td>\n",
       "    </tr>\n",
       "    <tr>\n",
       "      <th>79049</th>\n",
       "      <td>2015</td>\n",
       "      <td>10</td>\n",
       "      <td>44</td>\n",
       "      <td>4</td>\n",
       "      <td>Finland</td>\n",
       "      <td>13226.27</td>\n",
       "    </tr>\n",
       "    <tr>\n",
       "      <th>79050</th>\n",
       "      <td>2015</td>\n",
       "      <td>10</td>\n",
       "      <td>44</td>\n",
       "      <td>4</td>\n",
       "      <td>Finland</td>\n",
       "      <td>63637.30</td>\n",
       "    </tr>\n",
       "    <tr>\n",
       "      <th>79051</th>\n",
       "      <td>2015</td>\n",
       "      <td>10</td>\n",
       "      <td>44</td>\n",
       "      <td>4</td>\n",
       "      <td>Finland</td>\n",
       "      <td>83439.00</td>\n",
       "    </tr>\n",
       "    <tr>\n",
       "      <th>79052</th>\n",
       "      <td>2015</td>\n",
       "      <td>10</td>\n",
       "      <td>44</td>\n",
       "      <td>4</td>\n",
       "      <td>Finland</td>\n",
       "      <td>64120.86</td>\n",
       "    </tr>\n",
       "    <tr>\n",
       "      <th>79053</th>\n",
       "      <td>2015</td>\n",
       "      <td>10</td>\n",
       "      <td>44</td>\n",
       "      <td>4</td>\n",
       "      <td>Finland</td>\n",
       "      <td>938386.00</td>\n",
       "    </tr>\n",
       "    <tr>\n",
       "      <th>79054</th>\n",
       "      <td>2015</td>\n",
       "      <td>10</td>\n",
       "      <td>44</td>\n",
       "      <td>4</td>\n",
       "      <td>Finland</td>\n",
       "      <td>133925.20</td>\n",
       "    </tr>\n",
       "    <tr>\n",
       "      <th>79055</th>\n",
       "      <td>2015</td>\n",
       "      <td>10</td>\n",
       "      <td>44</td>\n",
       "      <td>4</td>\n",
       "      <td>Finland</td>\n",
       "      <td>283420.50</td>\n",
       "    </tr>\n",
       "    <tr>\n",
       "      <th>79056</th>\n",
       "      <td>2015</td>\n",
       "      <td>10</td>\n",
       "      <td>44</td>\n",
       "      <td>4</td>\n",
       "      <td>Finland</td>\n",
       "      <td>43835.60</td>\n",
       "    </tr>\n",
       "    <tr>\n",
       "      <th>79057</th>\n",
       "      <td>2015</td>\n",
       "      <td>10</td>\n",
       "      <td>44</td>\n",
       "      <td>4</td>\n",
       "      <td>Finland</td>\n",
       "      <td>69532.60</td>\n",
       "    </tr>\n",
       "    <tr>\n",
       "      <th>79058</th>\n",
       "      <td>2015</td>\n",
       "      <td>10</td>\n",
       "      <td>44</td>\n",
       "      <td>4</td>\n",
       "      <td>Finland</td>\n",
       "      <td>93263.90</td>\n",
       "    </tr>\n",
       "    <tr>\n",
       "      <th>79059</th>\n",
       "      <td>2015</td>\n",
       "      <td>10</td>\n",
       "      <td>44</td>\n",
       "      <td>4</td>\n",
       "      <td>Finland</td>\n",
       "      <td>43079.70</td>\n",
       "    </tr>\n",
       "    <tr>\n",
       "      <th>79060</th>\n",
       "      <td>2015</td>\n",
       "      <td>10</td>\n",
       "      <td>44</td>\n",
       "      <td>4</td>\n",
       "      <td>Finland</td>\n",
       "      <td>77392.40</td>\n",
       "    </tr>\n",
       "    <tr>\n",
       "      <th>79061</th>\n",
       "      <td>2015</td>\n",
       "      <td>10</td>\n",
       "      <td>44</td>\n",
       "      <td>4</td>\n",
       "      <td>Finland</td>\n",
       "      <td>114577.40</td>\n",
       "    </tr>\n",
       "    <tr>\n",
       "      <th>79062</th>\n",
       "      <td>2015</td>\n",
       "      <td>10</td>\n",
       "      <td>44</td>\n",
       "      <td>4</td>\n",
       "      <td>Finland</td>\n",
       "      <td>40812.60</td>\n",
       "    </tr>\n",
       "    <tr>\n",
       "      <th>79063</th>\n",
       "      <td>2015</td>\n",
       "      <td>10</td>\n",
       "      <td>44</td>\n",
       "      <td>4</td>\n",
       "      <td>Finland</td>\n",
       "      <td>36579.80</td>\n",
       "    </tr>\n",
       "    <tr>\n",
       "      <th>79064</th>\n",
       "      <td>2015</td>\n",
       "      <td>10</td>\n",
       "      <td>44</td>\n",
       "      <td>4</td>\n",
       "      <td>Finland</td>\n",
       "      <td>74067.40</td>\n",
       "    </tr>\n",
       "    <tr>\n",
       "      <th>79065</th>\n",
       "      <td>2015</td>\n",
       "      <td>10</td>\n",
       "      <td>44</td>\n",
       "      <td>4</td>\n",
       "      <td>Finland</td>\n",
       "      <td>7557.80</td>\n",
       "    </tr>\n",
       "    <tr>\n",
       "      <th>79066</th>\n",
       "      <td>2015</td>\n",
       "      <td>10</td>\n",
       "      <td>44</td>\n",
       "      <td>4</td>\n",
       "      <td>Finland</td>\n",
       "      <td>37789.60</td>\n",
       "    </tr>\n",
       "    <tr>\n",
       "      <th>79067</th>\n",
       "      <td>2015</td>\n",
       "      <td>10</td>\n",
       "      <td>44</td>\n",
       "      <td>4</td>\n",
       "      <td>Finland</td>\n",
       "      <td>5169.66</td>\n",
       "    </tr>\n",
       "    <tr>\n",
       "      <th>79068</th>\n",
       "      <td>2015</td>\n",
       "      <td>10</td>\n",
       "      <td>44</td>\n",
       "      <td>4</td>\n",
       "      <td>Finland</td>\n",
       "      <td>0.00</td>\n",
       "    </tr>\n",
       "    <tr>\n",
       "      <th>79069</th>\n",
       "      <td>2015</td>\n",
       "      <td>10</td>\n",
       "      <td>44</td>\n",
       "      <td>4</td>\n",
       "      <td>Finland</td>\n",
       "      <td>0.00</td>\n",
       "    </tr>\n",
       "    <tr>\n",
       "      <th>79070</th>\n",
       "      <td>2015</td>\n",
       "      <td>10</td>\n",
       "      <td>44</td>\n",
       "      <td>4</td>\n",
       "      <td>Finland</td>\n",
       "      <td>0.00</td>\n",
       "    </tr>\n",
       "    <tr>\n",
       "      <th>79071</th>\n",
       "      <td>2015</td>\n",
       "      <td>10</td>\n",
       "      <td>44</td>\n",
       "      <td>4</td>\n",
       "      <td>Finland</td>\n",
       "      <td>0.00</td>\n",
       "    </tr>\n",
       "  </tbody>\n",
       "</table>\n",
       "<p>79072 rows × 6 columns</p>\n",
       "</div>"
      ],
      "text/plain": [
       "       Year  Month  Week  Product_ID    Country       Sales\n",
       "0      2013      1     1           1  Argentina   157500.00\n",
       "1      2013      1     1           1  Argentina    39375.00\n",
       "2      2013      1     1           1  Argentina    15750.00\n",
       "3      2013      1     1           1  Argentina    47250.00\n",
       "4      2013      1     1           1  Argentina   283500.00\n",
       "5      2013      1     1           1  Argentina        0.00\n",
       "6      2013      1     1           1  Argentina     1575.00\n",
       "7      2013      1     1           1  Argentina    47250.00\n",
       "8      2013      1     1           1  Argentina        0.00\n",
       "9      2013      1     1           1  Argentina        0.00\n",
       "10     2013      1     1           1  Argentina   277200.00\n",
       "11     2013      1     1           1  Argentina    12600.00\n",
       "12     2013      1     1           1  Argentina   126000.00\n",
       "13     2013      1     1           1  Argentina  1417500.00\n",
       "14     2013      1     1           1  Argentina   472500.00\n",
       "15     2013      1     1           1  Argentina    78750.00\n",
       "16     2013      1     1           1  Argentina   132300.00\n",
       "17     2013      1     1           1  Argentina        0.00\n",
       "18     2013      1     1           1  Argentina    94500.00\n",
       "19     2013      1     1           1  Argentina     7875.00\n",
       "20     2013      1     1           1  Argentina   173250.00\n",
       "21     2013      1     1           1  Argentina    22050.00\n",
       "22     2013      1     1           1  Argentina   236250.00\n",
       "23     2013      1     1           1  Argentina   510300.00\n",
       "24     2013      1     1           1  Argentina     9450.00\n",
       "25     2013      1     1           1  Argentina     9450.00\n",
       "26     2013      1     1           1  Argentina   157500.00\n",
       "27     2013      1     1           1  Argentina     6300.00\n",
       "28     2013      1     2           1  Argentina   157500.00\n",
       "29     2013      1     2           1  Argentina   315000.00\n",
       "...     ...    ...   ...         ...        ...         ...\n",
       "79042  2015     10    44           4    Finland    18153.97\n",
       "79043  2015     10    44           4    Finland       75.58\n",
       "79044  2015     10    44           4    Finland    31138.40\n",
       "79045  2015     10    44           4    Finland   174813.69\n",
       "79046  2015     10    44           4    Finland   193481.60\n",
       "79047  2015     10    44           4    Finland   206178.20\n",
       "79048  2015     10    44           4    Finland   311082.60\n",
       "79049  2015     10    44           4    Finland    13226.27\n",
       "79050  2015     10    44           4    Finland    63637.30\n",
       "79051  2015     10    44           4    Finland    83439.00\n",
       "79052  2015     10    44           4    Finland    64120.86\n",
       "79053  2015     10    44           4    Finland   938386.00\n",
       "79054  2015     10    44           4    Finland   133925.20\n",
       "79055  2015     10    44           4    Finland   283420.50\n",
       "79056  2015     10    44           4    Finland    43835.60\n",
       "79057  2015     10    44           4    Finland    69532.60\n",
       "79058  2015     10    44           4    Finland    93263.90\n",
       "79059  2015     10    44           4    Finland    43079.70\n",
       "79060  2015     10    44           4    Finland    77392.40\n",
       "79061  2015     10    44           4    Finland   114577.40\n",
       "79062  2015     10    44           4    Finland    40812.60\n",
       "79063  2015     10    44           4    Finland    36579.80\n",
       "79064  2015     10    44           4    Finland    74067.40\n",
       "79065  2015     10    44           4    Finland     7557.80\n",
       "79066  2015     10    44           4    Finland    37789.60\n",
       "79067  2015     10    44           4    Finland     5169.66\n",
       "79068  2015     10    44           4    Finland        0.00\n",
       "79069  2015     10    44           4    Finland        0.00\n",
       "79070  2015     10    44           4    Finland        0.00\n",
       "79071  2015     10    44           4    Finland        0.00\n",
       "\n",
       "[79072 rows x 6 columns]"
      ]
     },
     "execution_count": 28,
     "metadata": {},
     "output_type": "execute_result"
    }
   ],
   "source": [
    "train_data.drop('S_No',axis=1,inplace=True)\n",
    "train_data"
   ]
  },
  {
   "cell_type": "code",
   "execution_count": 29,
   "metadata": {},
   "outputs": [
    {
     "data": {
      "text/html": [
       "<div>\n",
       "<style scoped>\n",
       "    .dataframe tbody tr th:only-of-type {\n",
       "        vertical-align: middle;\n",
       "    }\n",
       "\n",
       "    .dataframe tbody tr th {\n",
       "        vertical-align: top;\n",
       "    }\n",
       "\n",
       "    .dataframe thead th {\n",
       "        text-align: right;\n",
       "    }\n",
       "</style>\n",
       "<table border=\"1\" class=\"dataframe\">\n",
       "  <thead>\n",
       "    <tr style=\"text-align: right;\">\n",
       "      <th></th>\n",
       "      <th>S_No</th>\n",
       "      <th>Year</th>\n",
       "      <th>Month</th>\n",
       "      <th>Product_ID</th>\n",
       "      <th>Country</th>\n",
       "      <th>Sales</th>\n",
       "    </tr>\n",
       "  </thead>\n",
       "  <tbody>\n",
       "    <tr>\n",
       "      <th>0</th>\n",
       "      <td>79073</td>\n",
       "      <td>2016</td>\n",
       "      <td>4</td>\n",
       "      <td>1</td>\n",
       "      <td>Argentina</td>\n",
       "      <td>NaN</td>\n",
       "    </tr>\n",
       "    <tr>\n",
       "      <th>1</th>\n",
       "      <td>79074</td>\n",
       "      <td>2016</td>\n",
       "      <td>5</td>\n",
       "      <td>1</td>\n",
       "      <td>Argentina</td>\n",
       "      <td>NaN</td>\n",
       "    </tr>\n",
       "    <tr>\n",
       "      <th>2</th>\n",
       "      <td>79075</td>\n",
       "      <td>2016</td>\n",
       "      <td>6</td>\n",
       "      <td>1</td>\n",
       "      <td>Argentina</td>\n",
       "      <td>NaN</td>\n",
       "    </tr>\n",
       "    <tr>\n",
       "      <th>3</th>\n",
       "      <td>79076</td>\n",
       "      <td>2016</td>\n",
       "      <td>7</td>\n",
       "      <td>1</td>\n",
       "      <td>Argentina</td>\n",
       "      <td>NaN</td>\n",
       "    </tr>\n",
       "    <tr>\n",
       "      <th>4</th>\n",
       "      <td>79077</td>\n",
       "      <td>2016</td>\n",
       "      <td>8</td>\n",
       "      <td>1</td>\n",
       "      <td>Argentina</td>\n",
       "      <td>NaN</td>\n",
       "    </tr>\n",
       "  </tbody>\n",
       "</table>\n",
       "</div>"
      ],
      "text/plain": [
       "    S_No  Year  Month  Product_ID    Country  Sales\n",
       "0  79073  2016      4           1  Argentina    NaN\n",
       "1  79074  2016      5           1  Argentina    NaN\n",
       "2  79075  2016      6           1  Argentina    NaN\n",
       "3  79076  2016      7           1  Argentina    NaN\n",
       "4  79077  2016      8           1  Argentina    NaN"
      ]
     },
     "execution_count": 29,
     "metadata": {},
     "output_type": "execute_result"
    }
   ],
   "source": [
    "test_data.head()"
   ]
  },
  {
   "cell_type": "code",
   "execution_count": 30,
   "metadata": {},
   "outputs": [
    {
     "data": {
      "text/html": [
       "<div>\n",
       "<style scoped>\n",
       "    .dataframe tbody tr th:only-of-type {\n",
       "        vertical-align: middle;\n",
       "    }\n",
       "\n",
       "    .dataframe tbody tr th {\n",
       "        vertical-align: top;\n",
       "    }\n",
       "\n",
       "    .dataframe thead th {\n",
       "        text-align: right;\n",
       "    }\n",
       "</style>\n",
       "<table border=\"1\" class=\"dataframe\">\n",
       "  <thead>\n",
       "    <tr style=\"text-align: right;\">\n",
       "      <th></th>\n",
       "      <th>S_No</th>\n",
       "      <th>Year</th>\n",
       "      <th>Month</th>\n",
       "      <th>Product_ID</th>\n",
       "      <th>Country</th>\n",
       "      <th>Sales</th>\n",
       "    </tr>\n",
       "  </thead>\n",
       "  <tbody>\n",
       "    <tr>\n",
       "      <th>0</th>\n",
       "      <td>79073</td>\n",
       "      <td>2016</td>\n",
       "      <td>4</td>\n",
       "      <td>1</td>\n",
       "      <td>Argentina</td>\n",
       "      <td>NaN</td>\n",
       "    </tr>\n",
       "    <tr>\n",
       "      <th>1</th>\n",
       "      <td>79074</td>\n",
       "      <td>2016</td>\n",
       "      <td>5</td>\n",
       "      <td>1</td>\n",
       "      <td>Argentina</td>\n",
       "      <td>NaN</td>\n",
       "    </tr>\n",
       "    <tr>\n",
       "      <th>2</th>\n",
       "      <td>79075</td>\n",
       "      <td>2016</td>\n",
       "      <td>6</td>\n",
       "      <td>1</td>\n",
       "      <td>Argentina</td>\n",
       "      <td>NaN</td>\n",
       "    </tr>\n",
       "    <tr>\n",
       "      <th>3</th>\n",
       "      <td>79076</td>\n",
       "      <td>2016</td>\n",
       "      <td>7</td>\n",
       "      <td>1</td>\n",
       "      <td>Argentina</td>\n",
       "      <td>NaN</td>\n",
       "    </tr>\n",
       "    <tr>\n",
       "      <th>4</th>\n",
       "      <td>79077</td>\n",
       "      <td>2016</td>\n",
       "      <td>8</td>\n",
       "      <td>1</td>\n",
       "      <td>Argentina</td>\n",
       "      <td>NaN</td>\n",
       "    </tr>\n",
       "  </tbody>\n",
       "</table>\n",
       "</div>"
      ],
      "text/plain": [
       "    S_No  Year  Month  Product_ID    Country  Sales\n",
       "0  79073  2016      4           1  Argentina    NaN\n",
       "1  79074  2016      5           1  Argentina    NaN\n",
       "2  79075  2016      6           1  Argentina    NaN\n",
       "3  79076  2016      7           1  Argentina    NaN\n",
       "4  79077  2016      8           1  Argentina    NaN"
      ]
     },
     "execution_count": 30,
     "metadata": {},
     "output_type": "execute_result"
    }
   ],
   "source": [
    "dummy_test_data = test_data\n",
    "dummy_test_data.head(5)"
   ]
  },
  {
   "cell_type": "code",
   "execution_count": 110,
   "metadata": {},
   "outputs": [],
   "source": [
    "#test_data = pd.get_dummies(test_data)"
   ]
  },
  {
   "cell_type": "code",
   "execution_count": 89,
   "metadata": {},
   "outputs": [],
   "source": [
    "#test_data.drop('Sales',axis=1,inplace=True)"
   ]
  },
  {
   "cell_type": "code",
   "execution_count": 111,
   "metadata": {},
   "outputs": [],
   "source": [
    "#test_data.drop('S_No',axis=1,inplace=True)\n",
    "#test_data"
   ]
  },
  {
   "cell_type": "code",
   "execution_count": 31,
   "metadata": {},
   "outputs": [
    {
     "data": {
      "image/png": "[encoded data removed]",
      "text/plain": [
       "<Figure size 432x288 with 1 Axes>"
      ]
     },
     "metadata": {},
     "output_type": "display_data"
    }
   ],
   "source": [
    "fig, ax = plt.subplots()\n",
    "ax.scatter(x = train_data['Year'], y = train_data['Sales'])\n",
    "plt.ylabel('Sales', fontsize=13)\n",
    "plt.xlabel('Year', fontsize=13)\n",
    "plt.show()"
   ]
  },
  {
   "cell_type": "code",
   "execution_count": 32,
   "metadata": {},
   "outputs": [
    {
     "data": {
      "image/png": "[encoded data removed]",
      "text/plain": [
       "<Figure size 432x288 with 1 Axes>"
      ]
     },
     "metadata": {},
     "output_type": "display_data"
    }
   ],
   "source": [
    "fig, ax = plt.subplots()\n",
    "ax.scatter(x = train_data['Month'], y = train_data['Sales'])\n",
    "plt.ylabel('Sales', fontsize=13)\n",
    "plt.xlabel('Month', fontsize=13)\n",
    "plt.show()"
   ]
  },
  {
   "cell_type": "code",
   "execution_count": 33,
   "metadata": {},
   "outputs": [
    {
     "data": {
      "image/png": "[encoded data removed]",
      "text/plain": [
       "<Figure size 432x288 with 1 Axes>"
      ]
     },
     "metadata": {},
     "output_type": "display_data"
    }
   ],
   "source": [
    "fig, ax = plt.subplots()\n",
    "ax.scatter(x = train_data['Week'], y = train_data['Sales'])\n",
    "plt.ylabel('Sales', fontsize=13)\n",
    "plt.xlabel('Week', fontsize=13)\n",
    "plt.show()"
   ]
  },
  {
   "cell_type": "code",
   "execution_count": null,
   "metadata": {},
   "outputs": [],
   "source": []
  },
  {
   "cell_type": "code",
   "execution_count": 34,
   "metadata": {},
   "outputs": [
    {
     "data": {
      "image/png": "[encoded data removed]",
      "text/plain": [
       "<Figure size 432x288 with 1 Axes>"
      ]
     },
     "metadata": {},
     "output_type": "display_data"
    }
   ],
   "source": [
    "fig, ax = plt.subplots()\n",
    "ax.scatter(x = train_data['Country'], y = train_data['Sales'])\n",
    "plt.ylabel('Sales', fontsize=13)\n",
    "plt.xlabel('Country', fontsize=13)\n",
    "plt.show()"
   ]
  },
  {
   "cell_type": "code",
   "execution_count": null,
   "metadata": {},
   "outputs": [],
   "source": []
  },
  {
   "cell_type": "code",
   "execution_count": null,
   "metadata": {},
   "outputs": [],
   "source": []
  },
  {
   "cell_type": "code",
   "execution_count": null,
   "metadata": {},
   "outputs": [],
   "source": []
  },
  {
   "cell_type": "code",
   "execution_count": null,
   "metadata": {},
   "outputs": [],
   "source": []
  },
  {
   "cell_type": "code",
   "execution_count": 35,
   "metadata": {},
   "outputs": [
    {
     "data": {
      "image/png": "[encoded data removed]",
      "text/plain": [
       "<Figure size 1080x1080 with 2 Axes>"
      ]
     },
     "metadata": {},
     "output_type": "display_data"
    }
   ],
   "source": [
    "corrmat = train_data.corr()\n",
    "f, ax = plt.subplots(figsize=(15, 15))\n",
    "sns.heatmap(corrmat, vmax=.8, square=True);"
   ]
  },
  {
   "cell_type": "code",
   "execution_count": 36,
   "metadata": {},
   "outputs": [
    {
     "data": {
      "image/png": "[encoded data removed]",
      "text/plain": [
       "<Figure size 432x288 with 2 Axes>"
      ]
     },
     "metadata": {},
     "output_type": "display_data"
    }
   ],
   "source": [
    "k = 3 #number of variables for heatmap\n",
    "cols = corrmat.nlargest(k, 'Sales')['Sales'].index\n",
    "cm = np.corrcoef(train_data[cols].values.T)\n",
    "sns.set(font_scale=1.25)\n",
    "hm = sns.heatmap(cm, cbar=True, annot=True, square=True, fmt='.2f', annot_kws={'size': 10}, yticklabels=cols.values, xticklabels=cols.values)\n",
    "plt.show()"
   ]
  },
  {
   "cell_type": "code",
   "execution_count": 37,
   "metadata": {},
   "outputs": [
    {
     "data": {
      "image/png": "[encoded data removed]",
      "text/plain": [
       "<Figure size 900x900 with 30 Axes>"
      ]
     },
     "metadata": {},
     "output_type": "display_data"
    }
   ],
   "source": [
    "sns.set()\n",
    "cols = ['Sales', 'Year', 'Month', 'Week', 'Product_ID', 'Country']\n",
    "sns.pairplot(train_data[cols], size = 2.5)\n",
    "plt.show();"
   ]
  },
  {
   "cell_type": "code",
   "execution_count": 38,
   "metadata": {},
   "outputs": [
    {
     "name": "stderr",
     "output_type": "stream",
     "text": [
      "c:\\users\\naimish\\appdata\\local\\programs\\python\\python35\\lib\\site-packages\\matplotlib\\axes\\_axes.py:6462: UserWarning: The 'normed' kwarg is deprecated, and has been replaced by the 'density' kwarg.\n",
      "  warnings.warn(\"The 'normed' kwarg is deprecated, and has been \"\n"
     ]
    },
    {
     "data": {
      "image/png": "[encoded data removed]",
      "text/plain": [
       "<Figure size 432x288 with 1 Axes>"
      ]
     },
     "metadata": {},
     "output_type": "display_data"
    },
    {
     "data": {
      "image/png": "[encoded data removed]",
      "text/plain": [
       "<Figure size 432x288 with 1 Axes>"
      ]
     },
     "metadata": {},
     "output_type": "display_data"
    }
   ],
   "source": [
    "sns.distplot(train_data['Sales'], fit=norm);\n",
    "fig = plt.figure()\n",
    "res = stats.probplot(train_data['Sales'], plot=plt)"
   ]
  },
  {
   "cell_type": "code",
   "execution_count": null,
   "metadata": {},
   "outputs": [],
   "source": [
    "'''train_data['HasBsmt'] = pd.Series(len(train_data['Sales']), index=train_data.index)\n",
    "train_data['HasBsmt'] = 0 \n",
    "train_data.loc[train_data['Sales']>0,'HasBsmt'] = 1'''"
   ]
  },
  {
   "cell_type": "code",
   "execution_count": null,
   "metadata": {},
   "outputs": [],
   "source": [
    "#train_data.loc[train_data['HasBsmt']==1,'Sales'] = np.log(train_data['Sales'])"
   ]
  },
  {
   "cell_type": "code",
   "execution_count": null,
   "metadata": {},
   "outputs": [],
   "source": [
    "'''sns.distplot(train_data[train_data['Sales']>0]['Sales'], fit=norm);\n",
    "fig = plt.figure()\n",
    "res = stats.probplot(train_data[train_data['Sales']>0]['Sales'], plot=plt)'''"
   ]
  },
  {
   "cell_type": "code",
   "execution_count": 39,
   "metadata": {},
   "outputs": [
    {
     "data": {
      "text/plain": [
       "\"d = {'Sales':train_data['Sales']}\\ntrain_y = pd.DataFrame(data=d)\\ntrain_x = train_data.drop('Sales',axis=1)\\ntrain_x.head(5)\""
      ]
     },
     "execution_count": 39,
     "metadata": {},
     "output_type": "execute_result"
    }
   ],
   "source": [
    "'''d = {'Sales':train_data['Sales']}\n",
    "train_y = pd.DataFrame(data=d)\n",
    "train_x = train_data.drop('Sales',axis=1)\n",
    "train_x.head(5)'''"
   ]
  },
  {
   "cell_type": "code",
   "execution_count": 42,
   "metadata": {},
   "outputs": [],
   "source": [
    "temp = train_data[['Country','Year','Month','Product_ID','Sales']].groupby(['Country','Year','Month','Product_ID'], as_index=False).sum()"
   ]
  },
  {
   "cell_type": "code",
   "execution_count": 43,
   "metadata": {},
   "outputs": [
    {
     "name": "stdout",
     "output_type": "stream",
     "text": [
      "<class 'pandas.core.frame.DataFrame'>\n",
      "Int64Index: 388 entries, 0 to 387\n",
      "Data columns (total 5 columns):\n",
      "Country       388 non-null object\n",
      "Year          388 non-null int64\n",
      "Month         388 non-null int64\n",
      "Product_ID    388 non-null int64\n",
      "Sales         388 non-null float64\n",
      "dtypes: float64(1), int64(3), object(1)\n",
      "memory usage: 18.2+ KB\n"
     ]
    },
    {
     "data": {
      "text/html": [
       "<div>\n",
       "<style scoped>\n",
       "    .dataframe tbody tr th:only-of-type {\n",
       "        vertical-align: middle;\n",
       "    }\n",
       "\n",
       "    .dataframe tbody tr th {\n",
       "        vertical-align: top;\n",
       "    }\n",
       "\n",
       "    .dataframe thead th {\n",
       "        text-align: right;\n",
       "    }\n",
       "</style>\n",
       "<table border=\"1\" class=\"dataframe\">\n",
       "  <thead>\n",
       "    <tr style=\"text-align: right;\">\n",
       "      <th></th>\n",
       "      <th>Country</th>\n",
       "      <th>Year</th>\n",
       "      <th>Month</th>\n",
       "      <th>Product_ID</th>\n",
       "      <th>Sales</th>\n",
       "    </tr>\n",
       "  </thead>\n",
       "  <tbody>\n",
       "    <tr>\n",
       "      <th>0</th>\n",
       "      <td>Argentina</td>\n",
       "      <td>2013</td>\n",
       "      <td>1</td>\n",
       "      <td>1</td>\n",
       "      <td>34346025.00</td>\n",
       "    </tr>\n",
       "    <tr>\n",
       "      <th>1</th>\n",
       "      <td>Argentina</td>\n",
       "      <td>2013</td>\n",
       "      <td>1</td>\n",
       "      <td>2</td>\n",
       "      <td>2751851.48</td>\n",
       "    </tr>\n",
       "    <tr>\n",
       "      <th>2</th>\n",
       "      <td>Argentina</td>\n",
       "      <td>2013</td>\n",
       "      <td>2</td>\n",
       "      <td>1</td>\n",
       "      <td>32005575.00</td>\n",
       "    </tr>\n",
       "    <tr>\n",
       "      <th>3</th>\n",
       "      <td>Argentina</td>\n",
       "      <td>2013</td>\n",
       "      <td>2</td>\n",
       "      <td>2</td>\n",
       "      <td>2804313.12</td>\n",
       "    </tr>\n",
       "    <tr>\n",
       "      <th>4</th>\n",
       "      <td>Argentina</td>\n",
       "      <td>2013</td>\n",
       "      <td>3</td>\n",
       "      <td>1</td>\n",
       "      <td>32530050.00</td>\n",
       "    </tr>\n",
       "    <tr>\n",
       "      <th>5</th>\n",
       "      <td>Argentina</td>\n",
       "      <td>2013</td>\n",
       "      <td>3</td>\n",
       "      <td>2</td>\n",
       "      <td>2573004.98</td>\n",
       "    </tr>\n",
       "    <tr>\n",
       "      <th>6</th>\n",
       "      <td>Argentina</td>\n",
       "      <td>2013</td>\n",
       "      <td>4</td>\n",
       "      <td>1</td>\n",
       "      <td>35588700.00</td>\n",
       "    </tr>\n",
       "    <tr>\n",
       "      <th>7</th>\n",
       "      <td>Argentina</td>\n",
       "      <td>2013</td>\n",
       "      <td>4</td>\n",
       "      <td>2</td>\n",
       "      <td>3436237.42</td>\n",
       "    </tr>\n",
       "    <tr>\n",
       "      <th>8</th>\n",
       "      <td>Argentina</td>\n",
       "      <td>2013</td>\n",
       "      <td>5</td>\n",
       "      <td>1</td>\n",
       "      <td>38789100.00</td>\n",
       "    </tr>\n",
       "    <tr>\n",
       "      <th>9</th>\n",
       "      <td>Argentina</td>\n",
       "      <td>2013</td>\n",
       "      <td>5</td>\n",
       "      <td>2</td>\n",
       "      <td>3772468.84</td>\n",
       "    </tr>\n",
       "    <tr>\n",
       "      <th>10</th>\n",
       "      <td>Argentina</td>\n",
       "      <td>2013</td>\n",
       "      <td>6</td>\n",
       "      <td>1</td>\n",
       "      <td>36196650.00</td>\n",
       "    </tr>\n",
       "    <tr>\n",
       "      <th>11</th>\n",
       "      <td>Argentina</td>\n",
       "      <td>2013</td>\n",
       "      <td>6</td>\n",
       "      <td>2</td>\n",
       "      <td>3712853.34</td>\n",
       "    </tr>\n",
       "    <tr>\n",
       "      <th>12</th>\n",
       "      <td>Argentina</td>\n",
       "      <td>2013</td>\n",
       "      <td>7</td>\n",
       "      <td>1</td>\n",
       "      <td>37133775.00</td>\n",
       "    </tr>\n",
       "    <tr>\n",
       "      <th>13</th>\n",
       "      <td>Argentina</td>\n",
       "      <td>2013</td>\n",
       "      <td>7</td>\n",
       "      <td>2</td>\n",
       "      <td>3791545.80</td>\n",
       "    </tr>\n",
       "    <tr>\n",
       "      <th>14</th>\n",
       "      <td>Argentina</td>\n",
       "      <td>2013</td>\n",
       "      <td>8</td>\n",
       "      <td>1</td>\n",
       "      <td>35311500.00</td>\n",
       "    </tr>\n",
       "    <tr>\n",
       "      <th>15</th>\n",
       "      <td>Argentina</td>\n",
       "      <td>2013</td>\n",
       "      <td>8</td>\n",
       "      <td>2</td>\n",
       "      <td>3698545.62</td>\n",
       "    </tr>\n",
       "    <tr>\n",
       "      <th>16</th>\n",
       "      <td>Argentina</td>\n",
       "      <td>2013</td>\n",
       "      <td>9</td>\n",
       "      <td>1</td>\n",
       "      <td>38437875.00</td>\n",
       "    </tr>\n",
       "    <tr>\n",
       "      <th>17</th>\n",
       "      <td>Argentina</td>\n",
       "      <td>2013</td>\n",
       "      <td>9</td>\n",
       "      <td>2</td>\n",
       "      <td>3979930.78</td>\n",
       "    </tr>\n",
       "    <tr>\n",
       "      <th>18</th>\n",
       "      <td>Argentina</td>\n",
       "      <td>2013</td>\n",
       "      <td>10</td>\n",
       "      <td>1</td>\n",
       "      <td>44397675.00</td>\n",
       "    </tr>\n",
       "    <tr>\n",
       "      <th>19</th>\n",
       "      <td>Argentina</td>\n",
       "      <td>2013</td>\n",
       "      <td>10</td>\n",
       "      <td>2</td>\n",
       "      <td>4514085.66</td>\n",
       "    </tr>\n",
       "    <tr>\n",
       "      <th>20</th>\n",
       "      <td>Argentina</td>\n",
       "      <td>2013</td>\n",
       "      <td>11</td>\n",
       "      <td>1</td>\n",
       "      <td>45525375.00</td>\n",
       "    </tr>\n",
       "    <tr>\n",
       "      <th>21</th>\n",
       "      <td>Argentina</td>\n",
       "      <td>2013</td>\n",
       "      <td>11</td>\n",
       "      <td>2</td>\n",
       "      <td>5258087.10</td>\n",
       "    </tr>\n",
       "    <tr>\n",
       "      <th>22</th>\n",
       "      <td>Argentina</td>\n",
       "      <td>2013</td>\n",
       "      <td>12</td>\n",
       "      <td>1</td>\n",
       "      <td>33610500.00</td>\n",
       "    </tr>\n",
       "    <tr>\n",
       "      <th>23</th>\n",
       "      <td>Argentina</td>\n",
       "      <td>2013</td>\n",
       "      <td>12</td>\n",
       "      <td>2</td>\n",
       "      <td>4010930.84</td>\n",
       "    </tr>\n",
       "    <tr>\n",
       "      <th>24</th>\n",
       "      <td>Argentina</td>\n",
       "      <td>2014</td>\n",
       "      <td>1</td>\n",
       "      <td>1</td>\n",
       "      <td>44600850.00</td>\n",
       "    </tr>\n",
       "    <tr>\n",
       "      <th>25</th>\n",
       "      <td>Argentina</td>\n",
       "      <td>2014</td>\n",
       "      <td>1</td>\n",
       "      <td>2</td>\n",
       "      <td>4821701.64</td>\n",
       "    </tr>\n",
       "    <tr>\n",
       "      <th>26</th>\n",
       "      <td>Argentina</td>\n",
       "      <td>2014</td>\n",
       "      <td>2</td>\n",
       "      <td>1</td>\n",
       "      <td>41562675.00</td>\n",
       "    </tr>\n",
       "    <tr>\n",
       "      <th>27</th>\n",
       "      <td>Argentina</td>\n",
       "      <td>2014</td>\n",
       "      <td>2</td>\n",
       "      <td>2</td>\n",
       "      <td>4044315.52</td>\n",
       "    </tr>\n",
       "    <tr>\n",
       "      <th>28</th>\n",
       "      <td>Argentina</td>\n",
       "      <td>2014</td>\n",
       "      <td>3</td>\n",
       "      <td>1</td>\n",
       "      <td>36957375.00</td>\n",
       "    </tr>\n",
       "    <tr>\n",
       "      <th>29</th>\n",
       "      <td>Argentina</td>\n",
       "      <td>2014</td>\n",
       "      <td>3</td>\n",
       "      <td>2</td>\n",
       "      <td>4945701.88</td>\n",
       "    </tr>\n",
       "    <tr>\n",
       "      <th>...</th>\n",
       "      <td>...</td>\n",
       "      <td>...</td>\n",
       "      <td>...</td>\n",
       "      <td>...</td>\n",
       "      <td>...</td>\n",
       "    </tr>\n",
       "    <tr>\n",
       "      <th>358</th>\n",
       "      <td>Finland</td>\n",
       "      <td>2013</td>\n",
       "      <td>5</td>\n",
       "      <td>4</td>\n",
       "      <td>32942280.96</td>\n",
       "    </tr>\n",
       "    <tr>\n",
       "      <th>359</th>\n",
       "      <td>Finland</td>\n",
       "      <td>2013</td>\n",
       "      <td>6</td>\n",
       "      <td>4</td>\n",
       "      <td>19155934.08</td>\n",
       "    </tr>\n",
       "    <tr>\n",
       "      <th>360</th>\n",
       "      <td>Finland</td>\n",
       "      <td>2013</td>\n",
       "      <td>7</td>\n",
       "      <td>4</td>\n",
       "      <td>27180092.16</td>\n",
       "    </tr>\n",
       "    <tr>\n",
       "      <th>361</th>\n",
       "      <td>Finland</td>\n",
       "      <td>2013</td>\n",
       "      <td>8</td>\n",
       "      <td>4</td>\n",
       "      <td>27492566.40</td>\n",
       "    </tr>\n",
       "    <tr>\n",
       "      <th>362</th>\n",
       "      <td>Finland</td>\n",
       "      <td>2013</td>\n",
       "      <td>9</td>\n",
       "      <td>4</td>\n",
       "      <td>33901217.28</td>\n",
       "    </tr>\n",
       "    <tr>\n",
       "      <th>363</th>\n",
       "      <td>Finland</td>\n",
       "      <td>2013</td>\n",
       "      <td>10</td>\n",
       "      <td>4</td>\n",
       "      <td>30052978.56</td>\n",
       "    </tr>\n",
       "    <tr>\n",
       "      <th>364</th>\n",
       "      <td>Finland</td>\n",
       "      <td>2013</td>\n",
       "      <td>11</td>\n",
       "      <td>4</td>\n",
       "      <td>37328238.72</td>\n",
       "    </tr>\n",
       "    <tr>\n",
       "      <th>365</th>\n",
       "      <td>Finland</td>\n",
       "      <td>2013</td>\n",
       "      <td>12</td>\n",
       "      <td>4</td>\n",
       "      <td>25899212.16</td>\n",
       "    </tr>\n",
       "    <tr>\n",
       "      <th>366</th>\n",
       "      <td>Finland</td>\n",
       "      <td>2014</td>\n",
       "      <td>1</td>\n",
       "      <td>4</td>\n",
       "      <td>28468419.84</td>\n",
       "    </tr>\n",
       "    <tr>\n",
       "      <th>367</th>\n",
       "      <td>Finland</td>\n",
       "      <td>2014</td>\n",
       "      <td>2</td>\n",
       "      <td>4</td>\n",
       "      <td>18218511.36</td>\n",
       "    </tr>\n",
       "    <tr>\n",
       "      <th>368</th>\n",
       "      <td>Finland</td>\n",
       "      <td>2014</td>\n",
       "      <td>3</td>\n",
       "      <td>4</td>\n",
       "      <td>39838901.76</td>\n",
       "    </tr>\n",
       "    <tr>\n",
       "      <th>369</th>\n",
       "      <td>Finland</td>\n",
       "      <td>2014</td>\n",
       "      <td>4</td>\n",
       "      <td>4</td>\n",
       "      <td>33158501.77</td>\n",
       "    </tr>\n",
       "    <tr>\n",
       "      <th>370</th>\n",
       "      <td>Finland</td>\n",
       "      <td>2014</td>\n",
       "      <td>5</td>\n",
       "      <td>4</td>\n",
       "      <td>23801300.73</td>\n",
       "    </tr>\n",
       "    <tr>\n",
       "      <th>371</th>\n",
       "      <td>Finland</td>\n",
       "      <td>2014</td>\n",
       "      <td>6</td>\n",
       "      <td>4</td>\n",
       "      <td>27895262.62</td>\n",
       "    </tr>\n",
       "    <tr>\n",
       "      <th>372</th>\n",
       "      <td>Finland</td>\n",
       "      <td>2014</td>\n",
       "      <td>7</td>\n",
       "      <td>4</td>\n",
       "      <td>30143145.19</td>\n",
       "    </tr>\n",
       "    <tr>\n",
       "      <th>373</th>\n",
       "      <td>Finland</td>\n",
       "      <td>2014</td>\n",
       "      <td>8</td>\n",
       "      <td>4</td>\n",
       "      <td>26633523.87</td>\n",
       "    </tr>\n",
       "    <tr>\n",
       "      <th>374</th>\n",
       "      <td>Finland</td>\n",
       "      <td>2014</td>\n",
       "      <td>9</td>\n",
       "      <td>4</td>\n",
       "      <td>38019992.88</td>\n",
       "    </tr>\n",
       "    <tr>\n",
       "      <th>375</th>\n",
       "      <td>Finland</td>\n",
       "      <td>2014</td>\n",
       "      <td>10</td>\n",
       "      <td>4</td>\n",
       "      <td>23672488.22</td>\n",
       "    </tr>\n",
       "    <tr>\n",
       "      <th>376</th>\n",
       "      <td>Finland</td>\n",
       "      <td>2014</td>\n",
       "      <td>11</td>\n",
       "      <td>4</td>\n",
       "      <td>25217203.55</td>\n",
       "    </tr>\n",
       "    <tr>\n",
       "      <th>377</th>\n",
       "      <td>Finland</td>\n",
       "      <td>2014</td>\n",
       "      <td>12</td>\n",
       "      <td>4</td>\n",
       "      <td>30169071.14</td>\n",
       "    </tr>\n",
       "    <tr>\n",
       "      <th>378</th>\n",
       "      <td>Finland</td>\n",
       "      <td>2015</td>\n",
       "      <td>1</td>\n",
       "      <td>4</td>\n",
       "      <td>30706372.78</td>\n",
       "    </tr>\n",
       "    <tr>\n",
       "      <th>379</th>\n",
       "      <td>Finland</td>\n",
       "      <td>2015</td>\n",
       "      <td>2</td>\n",
       "      <td>4</td>\n",
       "      <td>50113926.02</td>\n",
       "    </tr>\n",
       "    <tr>\n",
       "      <th>380</th>\n",
       "      <td>Finland</td>\n",
       "      <td>2015</td>\n",
       "      <td>3</td>\n",
       "      <td>4</td>\n",
       "      <td>9044923.37</td>\n",
       "    </tr>\n",
       "    <tr>\n",
       "      <th>381</th>\n",
       "      <td>Finland</td>\n",
       "      <td>2015</td>\n",
       "      <td>4</td>\n",
       "      <td>4</td>\n",
       "      <td>31067217.98</td>\n",
       "    </tr>\n",
       "    <tr>\n",
       "      <th>382</th>\n",
       "      <td>Finland</td>\n",
       "      <td>2015</td>\n",
       "      <td>5</td>\n",
       "      <td>4</td>\n",
       "      <td>24446467.61</td>\n",
       "    </tr>\n",
       "    <tr>\n",
       "      <th>383</th>\n",
       "      <td>Finland</td>\n",
       "      <td>2015</td>\n",
       "      <td>6</td>\n",
       "      <td>4</td>\n",
       "      <td>31931776.30</td>\n",
       "    </tr>\n",
       "    <tr>\n",
       "      <th>384</th>\n",
       "      <td>Finland</td>\n",
       "      <td>2015</td>\n",
       "      <td>7</td>\n",
       "      <td>4</td>\n",
       "      <td>28287106.21</td>\n",
       "    </tr>\n",
       "    <tr>\n",
       "      <th>385</th>\n",
       "      <td>Finland</td>\n",
       "      <td>2015</td>\n",
       "      <td>8</td>\n",
       "      <td>4</td>\n",
       "      <td>28765114.99</td>\n",
       "    </tr>\n",
       "    <tr>\n",
       "      <th>386</th>\n",
       "      <td>Finland</td>\n",
       "      <td>2015</td>\n",
       "      <td>9</td>\n",
       "      <td>4</td>\n",
       "      <td>28817795.16</td>\n",
       "    </tr>\n",
       "    <tr>\n",
       "      <th>387</th>\n",
       "      <td>Finland</td>\n",
       "      <td>2015</td>\n",
       "      <td>10</td>\n",
       "      <td>4</td>\n",
       "      <td>31268810.86</td>\n",
       "    </tr>\n",
       "  </tbody>\n",
       "</table>\n",
       "<p>388 rows × 5 columns</p>\n",
       "</div>"
      ],
      "text/plain": [
       "       Country  Year  Month  Product_ID        Sales\n",
       "0    Argentina  2013      1           1  34346025.00\n",
       "1    Argentina  2013      1           2   2751851.48\n",
       "2    Argentina  2013      2           1  32005575.00\n",
       "3    Argentina  2013      2           2   2804313.12\n",
       "4    Argentina  2013      3           1  32530050.00\n",
       "5    Argentina  2013      3           2   2573004.98\n",
       "6    Argentina  2013      4           1  35588700.00\n",
       "7    Argentina  2013      4           2   3436237.42\n",
       "8    Argentina  2013      5           1  38789100.00\n",
       "9    Argentina  2013      5           2   3772468.84\n",
       "10   Argentina  2013      6           1  36196650.00\n",
       "11   Argentina  2013      6           2   3712853.34\n",
       "12   Argentina  2013      7           1  37133775.00\n",
       "13   Argentina  2013      7           2   3791545.80\n",
       "14   Argentina  2013      8           1  35311500.00\n",
       "15   Argentina  2013      8           2   3698545.62\n",
       "16   Argentina  2013      9           1  38437875.00\n",
       "17   Argentina  2013      9           2   3979930.78\n",
       "18   Argentina  2013     10           1  44397675.00\n",
       "19   Argentina  2013     10           2   4514085.66\n",
       "20   Argentina  2013     11           1  45525375.00\n",
       "21   Argentina  2013     11           2   5258087.10\n",
       "22   Argentina  2013     12           1  33610500.00\n",
       "23   Argentina  2013     12           2   4010930.84\n",
       "24   Argentina  2014      1           1  44600850.00\n",
       "25   Argentina  2014      1           2   4821701.64\n",
       "26   Argentina  2014      2           1  41562675.00\n",
       "27   Argentina  2014      2           2   4044315.52\n",
       "28   Argentina  2014      3           1  36957375.00\n",
       "29   Argentina  2014      3           2   4945701.88\n",
       "..         ...   ...    ...         ...          ...\n",
       "358    Finland  2013      5           4  32942280.96\n",
       "359    Finland  2013      6           4  19155934.08\n",
       "360    Finland  2013      7           4  27180092.16\n",
       "361    Finland  2013      8           4  27492566.40\n",
       "362    Finland  2013      9           4  33901217.28\n",
       "363    Finland  2013     10           4  30052978.56\n",
       "364    Finland  2013     11           4  37328238.72\n",
       "365    Finland  2013     12           4  25899212.16\n",
       "366    Finland  2014      1           4  28468419.84\n",
       "367    Finland  2014      2           4  18218511.36\n",
       "368    Finland  2014      3           4  39838901.76\n",
       "369    Finland  2014      4           4  33158501.77\n",
       "370    Finland  2014      5           4  23801300.73\n",
       "371    Finland  2014      6           4  27895262.62\n",
       "372    Finland  2014      7           4  30143145.19\n",
       "373    Finland  2014      8           4  26633523.87\n",
       "374    Finland  2014      9           4  38019992.88\n",
       "375    Finland  2014     10           4  23672488.22\n",
       "376    Finland  2014     11           4  25217203.55\n",
       "377    Finland  2014     12           4  30169071.14\n",
       "378    Finland  2015      1           4  30706372.78\n",
       "379    Finland  2015      2           4  50113926.02\n",
       "380    Finland  2015      3           4   9044923.37\n",
       "381    Finland  2015      4           4  31067217.98\n",
       "382    Finland  2015      5           4  24446467.61\n",
       "383    Finland  2015      6           4  31931776.30\n",
       "384    Finland  2015      7           4  28287106.21\n",
       "385    Finland  2015      8           4  28765114.99\n",
       "386    Finland  2015      9           4  28817795.16\n",
       "387    Finland  2015     10           4  31268810.86\n",
       "\n",
       "[388 rows x 5 columns]"
      ]
     },
     "execution_count": 43,
     "metadata": {},
     "output_type": "execute_result"
    }
   ],
   "source": [
    "temp.info()\n",
    "temp"
   ]
  },
  {
   "cell_type": "code",
   "execution_count": 44,
   "metadata": {},
   "outputs": [],
   "source": [
    "argentina_train = temp.loc[temp['Country']=='Argentina']\n",
    "denmark_train = temp.loc[temp['Country']=='Denmark']\n",
    "belgium_train = temp.loc[temp['Country']=='Belgium']\n",
    "england_train = temp.loc[temp['Country']=='England']\n",
    "columbia_train = temp.loc[temp['Country']=='Columbia']\n",
    "finland_train = temp.loc[temp['Country']=='Finland']"
   ]
  },
  {
   "cell_type": "code",
   "execution_count": 45,
   "metadata": {},
   "outputs": [
    {
     "name": "stdout",
     "output_type": "stream",
     "text": [
      "41.57843621606922 %\n"
     ]
    }
   ],
   "source": [
    "model = LinearRegression()\n",
    "model.fit(argentina_train.drop(['Country','Sales'], axis=1),argentina_train['Sales'])\n",
    "acc = model.score(argentina_train.drop(['Country','Sales'], axis=1),argentina_train['Sales'])\n",
    "print(100*acc,'%')"
   ]
  },
  {
   "cell_type": "code",
   "execution_count": 46,
   "metadata": {},
   "outputs": [
    {
     "name": "stdout",
     "output_type": "stream",
     "text": [
      "73.85064919858564 %\n"
     ]
    }
   ],
   "source": [
    "model = LinearRegression()\n",
    "model.fit(denmark_train.drop(['Country','Sales'], axis=1),denmark_train['Sales'])\n",
    "acc = model.score(denmark_train.drop(['Country','Sales'], axis=1),denmark_train['Sales'])\n",
    "print(100*acc,'%')"
   ]
  },
  {
   "cell_type": "code",
   "execution_count": 47,
   "metadata": {},
   "outputs": [
    {
     "name": "stdout",
     "output_type": "stream",
     "text": [
      "73.85064919858489 %\n"
     ]
    }
   ],
   "source": [
    "model = Lasso()\n",
    "model.fit(denmark_train.drop(['Country','Sales'], axis=1),denmark_train['Sales'])\n",
    "acc = model.score(denmark_train.drop(['Country','Sales'], axis=1),denmark_train['Sales'])\n",
    "print(100*acc,'%')"
   ]
  },
  {
   "cell_type": "code",
   "execution_count": 51,
   "metadata": {},
   "outputs": [
    {
     "name": "stdout",
     "output_type": "stream",
     "text": [
      "94.61370615466213 %\n"
     ]
    }
   ],
   "source": [
    "denmark_model = RandomForestRegressor()\n",
    "denmark_model.fit(denmark_train.drop(['Country','Sales'], axis=1),denmark_train['Sales'])\n",
    "acc = denmark_model.score(denmark_train.drop(['Country','Sales'], axis=1),denmark_train['Sales'])\n",
    "print(100*acc,'%')"
   ]
  },
  {
   "cell_type": "code",
   "execution_count": 52,
   "metadata": {},
   "outputs": [
    {
     "name": "stdout",
     "output_type": "stream",
     "text": [
      "98.82329983933636 %\n"
     ]
    }
   ],
   "source": [
    "argentina_model = RandomForestRegressor()\n",
    "argentina_model.fit(argentina_train.drop(['Country','Sales'], axis=1),argentina_train['Sales'])\n",
    "acc = argentina_model.score(argentina_train.drop(['Country','Sales'], axis=1),argentina_train['Sales'])\n",
    "print(100*acc,'%')"
   ]
  },
  {
   "cell_type": "code",
   "execution_count": 53,
   "metadata": {},
   "outputs": [
    {
     "name": "stdout",
     "output_type": "stream",
     "text": [
      "98.83031897551395 %\n"
     ]
    }
   ],
   "source": [
    "england_model = RandomForestRegressor()\n",
    "england_model.fit(england_train.drop(['Country','Sales'], axis=1),england_train['Sales'])\n",
    "acc = england_model.score(england_train.drop(['Country','Sales'], axis=1),england_train['Sales'])\n",
    "print(100*acc,'%')"
   ]
  },
  {
   "cell_type": "code",
   "execution_count": 54,
   "metadata": {},
   "outputs": [
    {
     "name": "stdout",
     "output_type": "stream",
     "text": [
      "93.85366895088653 %\n"
     ]
    }
   ],
   "source": [
    "belgium_model = RandomForestRegressor()\n",
    "belgium_model.fit(belgium_train.drop(['Country','Sales'], axis=1),belgium_train['Sales'])\n",
    "acc = belgium_model.score(belgium_train.drop(['Country','Sales'], axis=1),belgium_train['Sales'])\n",
    "print(100*acc,'%')"
   ]
  },
  {
   "cell_type": "code",
   "execution_count": 55,
   "metadata": {},
   "outputs": [
    {
     "name": "stdout",
     "output_type": "stream",
     "text": [
      "99.23073498986932 %\n"
     ]
    }
   ],
   "source": [
    "columbia_model = RandomForestRegressor()\n",
    "columbia_model.fit(columbia_train.drop(['Country','Sales'], axis=1),columbia_train['Sales'])\n",
    "acc = columbia_model.score(columbia_train.drop(['Country','Sales'], axis=1),columbia_train['Sales'])\n",
    "print(100*acc,'%')"
   ]
  },
  {
   "cell_type": "code",
   "execution_count": 79,
   "metadata": {},
   "outputs": [
    {
     "name": "stdout",
     "output_type": "stream",
     "text": [
      "81.62070211731988 %\n"
     ]
    }
   ],
   "source": [
    "finland_model = RandomForestRegressor()\n",
    "finland_model.fit(finland_train.drop(['Country','Sales'], axis=1),finland_train['Sales'])\n",
    "acc = finland_model.score(finland_train.drop(['Country','Sales'], axis=1),finland_train['Sales'])\n",
    "print(100*acc,'%')"
   ]
  },
  {
   "cell_type": "code",
   "execution_count": 80,
   "metadata": {},
   "outputs": [],
   "source": [
    "models = {'England':england_model, 'Argentina':argentina_model, 'Belgium':belgium_model, 'Finland':finland_model, 'Columbia':columbia_model, 'Denmark':denmark_model}"
   ]
  },
  {
   "cell_type": "code",
   "execution_count": 81,
   "metadata": {},
   "outputs": [],
   "source": [
    "test_data = pd.read_csv('...\\\\zs\\\\dataset\\\\yds_test2018.csv')\n",
    "expense_data = pd.read_csv('...\\\\zs\\\\dataset\\\\promotional_expense.csv')"
   ]
  },
  {
   "cell_type": "code",
   "execution_count": 83,
   "metadata": {},
   "outputs": [],
   "source": [
    "argentina_expense = expense_data.loc[expense_data['Country']=='Argentina']\n",
    "denmark_expense = expense_data.loc[expense_data['Country']=='Denmark']\n",
    "belgium_expense = expense_data.loc[expense_data['Country']=='Belgium']\n",
    "england_expense = expense_data.loc[expense_data['Country']=='England']\n",
    "columbia_expense = expense_data.loc[expense_data['Country']=='Columbia']\n",
    "finland_expense = expense_data.loc[expense_data['Country']=='Finland']"
   ]
  },
  {
   "cell_type": "code",
   "execution_count": 84,
   "metadata": {},
   "outputs": [
    {
     "name": "stdout",
     "output_type": "stream",
     "text": [
      "98.69693864838833 %\n"
     ]
    }
   ],
   "source": [
    "argentina_expense_model = RandomForestRegressor()\n",
    "argentina_expense_model.fit(argentina_expense.drop(['Country','Expense_Price'], axis=1),argentina_expense['Expense_Price'])\n",
    "acc = argentina_expense_model.score(argentina_expense.drop(['Country','Expense_Price'], axis=1),argentina_expense['Expense_Price'])\n",
    "print(100*acc,'%')"
   ]
  },
  {
   "cell_type": "code",
   "execution_count": 85,
   "metadata": {},
   "outputs": [
    {
     "name": "stdout",
     "output_type": "stream",
     "text": [
      "98.81665007744658 %\n"
     ]
    }
   ],
   "source": [
    "england_expense_model = RandomForestRegressor()\n",
    "england_expense_model.fit(england_expense.drop(['Country','Expense_Price'], axis=1),england_expense['Expense_Price'])\n",
    "acc = england_expense_model.score(england_expense.drop(['Country','Expense_Price'], axis=1),england_expense['Expense_Price'])\n",
    "print(100*acc,'%')"
   ]
  },
  {
   "cell_type": "code",
   "execution_count": 86,
   "metadata": {},
   "outputs": [
    {
     "name": "stdout",
     "output_type": "stream",
     "text": [
      "85.00871438715907 %\n"
     ]
    }
   ],
   "source": [
    "finland_expense_model = RandomForestRegressor()\n",
    "finland_expense_model.fit(finland_expense.drop(['Country','Expense_Price'], axis=1),finland_expense['Expense_Price'])\n",
    "acc = finland_expense_model.score(finland_expense.drop(['Country','Expense_Price'], axis=1),finland_expense['Expense_Price'])\n",
    "print(100*acc,'%')"
   ]
  },
  {
   "cell_type": "code",
   "execution_count": 87,
   "metadata": {},
   "outputs": [
    {
     "name": "stdout",
     "output_type": "stream",
     "text": [
      "98.66020007342506 %\n"
     ]
    }
   ],
   "source": [
    "columbia_expense_model = RandomForestRegressor()\n",
    "columbia_expense_model.fit(columbia_expense.drop(['Country','Expense_Price'], axis=1),columbia_expense['Expense_Price'])\n",
    "acc = columbia_expense_model.score(columbia_expense.drop(['Country','Expense_Price'], axis=1),columbia_expense['Expense_Price'])\n",
    "print(100*acc,'%')"
   ]
  },
  {
   "cell_type": "code",
   "execution_count": 88,
   "metadata": {},
   "outputs": [
    {
     "name": "stdout",
     "output_type": "stream",
     "text": [
      "95.57250868093223 %\n"
     ]
    }
   ],
   "source": [
    "belgium_expense_model = RandomForestRegressor()\n",
    "belgium_expense_model.fit(belgium_expense.drop(['Country','Expense_Price'], axis=1),belgium_expense['Expense_Price'])\n",
    "acc = belgium_expense_model.score(belgium_expense.drop(['Country','Expense_Price'], axis=1),belgium_expense['Expense_Price'])\n",
    "print(100*acc,'%')"
   ]
  },
  {
   "cell_type": "code",
   "execution_count": 89,
   "metadata": {},
   "outputs": [
    {
     "name": "stdout",
     "output_type": "stream",
     "text": [
      "92.77128958523431 %\n"
     ]
    }
   ],
   "source": [
    "denmark_expense_model = RandomForestRegressor()\n",
    "denmark_expense_model.fit(denmark_expense.drop(['Country','Expense_Price'], axis=1),denmark_expense['Expense_Price'])\n",
    "acc = denmark_expense_model.score(denmark_expense.drop(['Country','Expense_Price'], axis=1),denmark_expense['Expense_Price'])\n",
    "print(100*acc,'%')"
   ]
  },
  {
   "cell_type": "code",
   "execution_count": 90,
   "metadata": {},
   "outputs": [],
   "source": [
    "expense_models = {'England':england_expense_model, 'Argentina':argentina_expense_model, 'Belgium':belgium_expense_model, 'Finland':finland_expense_model, 'Columbia':columbia_expense_model, 'Denmark':denmark_expense_model}"
   ]
  },
  {
   "cell_type": "code",
   "execution_count": 103,
   "metadata": {},
   "outputs": [],
   "source": [
    "prediction = []\n",
    "for index,row in test_data.iterrows():\n",
    "    predicted_sales = models[row['Country']].predict([[row['Year'], row['Month'], row['Product_ID']]])\n",
    "    predicted_expense = expense_models[row['Country']].predict([[row['Year'], row['Month'], row['Product_ID']]])\n",
    "    predicted_sales -= predicted_expense - 500\n",
    "    prediction.append(\"%.9f\"%predicted_sales[0])"
   ]
  },
  {
   "cell_type": "code",
   "execution_count": 104,
   "metadata": {},
   "outputs": [],
   "source": [
    "submission = pd.DataFrame({\n",
    "        'S_No':test_data['S_No'],\n",
    "        'Year':test_data['Year'],\n",
    "        'Month':test_data['Month'],\n",
    "        'Product_ID':test_data['Product_ID'],\n",
    "        'Country':test_data['Country'],\n",
    "        'Sales': prediction\n",
    "    },columns=['S_No','Year','Month','Product_ID','Country','Sales'])\n",
    "submission.to_csv('...\\\\zs\\\\dataset\\\\sample_submission.csv', index=False)"
   ]
  },
  {
   "cell_type": "code",
   "execution_count": null,
   "metadata": {},
   "outputs": [],
   "source": [
    "'''model = LinearRegression()\n",
    "model.fit(train_x,train_y)\n",
    "prediction=model.predict(test_data)\n",
    "print(train_y.shape)\n",
    "print(prediction.shape)\n",
    "acc = model.score(train_x,train_y)\n",
    "print(acc*100,'%')'''"
   ]
  },
  {
   "cell_type": "code",
   "execution_count": null,
   "metadata": {},
   "outputs": [],
   "source": [
    "'''clf = Lasso(alpha=0.00001)\n",
    "clf.fit(train_x,train_y)\n",
    "prediction=clf.predict(test_data)\n",
    "acc = clf.score(train_x,train_y)\n",
    "print(acc*100,'%')'''"
   ]
  },
  {
   "cell_type": "code",
   "execution_count": null,
   "metadata": {},
   "outputs": [],
   "source": [
    "'''clf = Ridge(alpha=2.0)\n",
    "clf.fit(train_x,train_y)\n",
    "prediction=clf.predict(test_data)\n",
    "acc = clf.score(train_x,train_y)\n",
    "print(acc*100,'%')'''"
   ]
  },
  {
   "cell_type": "code",
   "execution_count": null,
   "metadata": {},
   "outputs": [],
   "source": [
    "'''clf = DecisionTreeRegressor()\n",
    "clf.fit(train_x,train_y)\n",
    "prediction = clf.predict(test_data)\n",
    "acc = clf.score(train_x,train_y)\n",
    "print(acc*100,'%')'''"
   ]
  },
  {
   "cell_type": "code",
   "execution_count": null,
   "metadata": {},
   "outputs": [],
   "source": [
    "'''rng = np.random.RandomState(1)\n",
    "clf = AdaBoostRegressor(DecisionTreeRegressor(),n_estimators=300, random_state=rng)\n",
    "clf.fit(train_x,train_y)\n",
    "prediction = clf.predict(test_data)\n",
    "acc = clf.score(train_x,train_y)\n",
    "print(acc*100,'%')'''"
   ]
  },
  {
   "cell_type": "code",
   "execution_count": null,
   "metadata": {},
   "outputs": [],
   "source": [
    "'''train_y = (train_y - train_y.mean()) / (train_y.max()+1)\n",
    "from keras.models import Sequential\n",
    "model = Sequential()\n",
    "from keras.layers import Dense\n",
    "\n",
    "model.add(Dense(units=10, activation='relu', input_dim=5))\n",
    "model.add(Dense(units=1, activation='relu'))\n",
    "model.compile(loss='sparse_categorical_crossentropy',\n",
    "              optimizer='adam')\n",
    "model.fit(train_x, train_y, epochs=5, batch_size=32)\n",
    "prediction = model.predict(test_data, batch_size=128)'''"
   ]
  },
  {
   "cell_type": "code",
   "execution_count": null,
   "metadata": {},
   "outputs": [],
   "source": [
    "#print(prediction)\n",
    "#df = {\"Sales\":prediction.flatten()}\n",
    "#yd = pd.DataFrame(data=df,dtype=np.int32)"
   ]
  },
  {
   "cell_type": "code",
   "execution_count": null,
   "metadata": {},
   "outputs": [],
   "source": [
    "#new_test = pd.read_csv(\"C:\\\\Users\\\\Naimish\\\\Desktop\\\\ooo\\\\zs\\\\dataset\\\\yds_test2018.csv\")"
   ]
  },
  {
   "cell_type": "code",
   "execution_count": null,
   "metadata": {},
   "outputs": [],
   "source": [
    "'''submission = pd.DataFrame({\n",
    "        'S_No':new_test['S_No'],\n",
    "        'Year':new_test['Year'],\n",
    "        'Month':new_test['Month'],\n",
    "        'Product_ID':new_test['Product_ID'],\n",
    "        'Country':new_test['Country'],\n",
    "        'Sales': prediction.flatten()\n",
    "    },columns=['S_No','Year','Month','Product_ID','Country','Sales'])\n",
    "submission.to_csv('....\\\\zs\\\\dataset\\\\sample_submission.csv', index=False)'''"
   ]
  }
 ],
 "metadata": {
  "kernelspec": {
   "display_name": "Python 3",
   "language": "python",
   "name": "python3"
  },
  "language_info": {
   "codemirror_mode": {
    "name": "ipython",
    "version": 3
   },
   "file_extension": ".py",
   "mimetype": "text/x-python",
   "name": "python",
   "nbconvert_exporter": "python",
   "pygments_lexer": "ipython3",
   "version": "3.5.2"
  }
 },
 "nbformat": 4,
 "nbformat_minor": 1
}
